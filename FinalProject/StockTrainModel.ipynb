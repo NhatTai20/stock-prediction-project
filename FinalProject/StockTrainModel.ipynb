{
  "cells": [
    {
      "cell_type": "code",
      "execution_count": null,
      "id": "3bcb478d-b062-4674-bae2-d2bfe645f606",
      "metadata": {},
      "outputs": [],
      "source": [
        "import pandas as pd \n",
        "import numpy as np\n",
        "import math\n",
        "import matplotlib.pyplot as plt\n",
        "from keras.models import Sequential\n",
        "from keras.layers import Dense, LSTM\n",
        "from sklearn.preprocessing import MinMaxScaler\n",
        "from keras.models import load_model\n",
        "from keras.layers import Dropout\n",
        "import xgboost\n",
        "import pickle"
      ]
    },
    {
      "cell_type": "markdown",
      "id": "c7b3f274-2cd1-4a12-a127-b0fe5bef2f90",
      "metadata": {},
      "source": [
        "**Stock price prediction in 15 minutes for Microsoft, combining models and indicators.**"
      ]
    },
    {
      "cell_type": "markdown",
      "id": "ea13f3da-4d9c-461a-9de6-3a67514405f3",
      "metadata": {},
      "source": [
        "# DATA COLLECTION"
      ]
    },
    {
      "cell_type": "code",
      "execution_count": null,
      "id": "c4056e7d-143b-494a-99d6-5ded1fbae9d7",
      "metadata": {},
      "outputs": [],
      "source": [
        "from alpha_vantage.timeseries import TimeSeries\n",
        "ts = TimeSeries(key='D8JHWTNSXO7M9VKV', output_format='pandas')"
      ]
    },
    {
      "cell_type": "code",
      "execution_count": null,
      "id": "97f53b55-72ef-4bd6-8dda-40351fd4b492",
      "metadata": {},
      "outputs": [],
      "source": [
        "data = ts.get_intraday(symbol='MSFT',interval='15min', outputsize='full')\n",
        "data = data[0]\n",
        "data.rename(lambda x: x[2:].strip(), axis='columns', inplace=True)\n",
        "data"
      ]
    },
    {
      "cell_type": "markdown",
      "id": "48b8beed-f4e7-4993-b835-ef185a5a4cde",
      "metadata": {},
      "source": [
        "# INDICATORS CALCULATION"
      ]
    },
    {
      "cell_type": "code",
      "execution_count": null,
      "id": "d9b9709a-9e3c-41dd-b748-d9333d00baec",
      "metadata": {},
      "outputs": [],
      "source": [
        "from alpha_vantage.techindicators import TechIndicators\n",
        "ti = TechIndicators(key='D8JHWTNSXO7M9VKV', output_format='pandas')"
      ]
    },
    {
      "cell_type": "markdown",
      "id": "161d04b0-3279-4e06-9fc3-adfe6c190711",
      "metadata": {},
      "source": [
        "## 1. Rate of Change (ROC)"
      ]
    },
    {
      "cell_type": "code",
      "execution_count": null,
      "id": "aae4ddf2-1c16-4fe1-be8a-57f5c1aabfec",
      "metadata": {},
      "outputs": [],
      "source": [
        "indicator_roc = ti.get_roc(symbol='MSFT', interval='15min', time_period=20)\n",
        "indicator_roc = indicator_roc[0]\n",
        "indicator_roc"
      ]
    },
    {
      "cell_type": "markdown",
      "id": "3d7f381e-3a9d-4dde-a310-3806b1997627",
      "metadata": {},
      "source": [
        "## 2. Simple Moving Average (SMA)"
      ]
    },
    {
      "cell_type": "code",
      "execution_count": null,
      "id": "2e566eb5-0952-407b-aef1-81ff03cfe612",
      "metadata": {},
      "outputs": [],
      "source": [
        "indicator_sma = ti.get_sma(symbol='MSFT', interval='15min', time_period=20)\n",
        "indicator_sma = indicator_sma[0]\n",
        "indicator_sma"
      ]
    },
    {
      "cell_type": "markdown",
      "id": "e9687693-9824-4790-9cf6-04c809959383",
      "metadata": {},
      "source": [
        "## 3. Relative Strength Index (RSI)"
      ]
    },
    {
      "cell_type": "code",
      "execution_count": null,
      "id": "9f057851-f107-4177-b77e-edd72fdb9be2",
      "metadata": {},
      "outputs": [],
      "source": [
        "indicator_rsi = ti.get_rsi(symbol='MSFT', interval='15min', time_period=20)\n",
        "indicator_rsi = indicator_rsi[0]\n",
        "indicator_rsi"
      ]
    },
    {
      "cell_type": "markdown",
      "id": "bf76b382-2ce0-4068-b1c6-0f07f9d62e53",
      "metadata": {},
      "source": [
        "## 4. Bolling Bands (BBANDS)"
      ]
    },
    {
      "cell_type": "code",
      "execution_count": null,
      "id": "4caa6986",
      "metadata": {},
      "outputs": [],
      "source": [
        "def BollingerBand(data, n_loockback, n_std=2):\n",
        "    hlc_avg = (data.high + data.low + data.close)/3\n",
        "    data_std = hlc_avg.rolling(window=n_loockback).std()\n",
        "    data_upper = data.SMA + n_std * data_std\n",
        "    data_lower = data.SMA - n_std * data_std\n",
        "    return data.SMA, data_lower, data_upper"
      ]
    },
    {
      "cell_type": "code",
      "execution_count": null,
      "id": "58343d10-5551-4e06-abf8-936280502d24",
      "metadata": {
        "tags": []
      },
      "outputs": [],
      "source": [
        "# indicator_bb = ti.get_bbands(symbol='MSFT', interval='15min', time_period=20)\n",
        "# indicator_bb = indicator_bb[0]\n",
        "# indicator_bb"
      ]
    },
    {
      "cell_type": "markdown",
      "id": "9e3fa92f-87d2-41ab-9146-a2e4b7948c19",
      "metadata": {},
      "source": [
        "**Merge indicators to data**"
      ]
    },
    {
      "cell_type": "code",
      "execution_count": null,
      "id": "d3da52e0-8cb6-4616-b511-e80f0b94e16c",
      "metadata": {},
      "outputs": [],
      "source": [
        "original_df = pd.merge(data, indicator_roc, on='date', how='inner')\n",
        "original_df = pd.merge(original_df, indicator_sma, on='date', how='inner')\n",
        "original_df = pd.merge(original_df, indicator_rsi, on='date', how='inner')\n",
        "# original_df = pd.merge(original_df, indicator_bb, on='date', how='inner')\n",
        "original_df[\"Real Middle Band\"], original_df[\"Real Lower Band\"], original_df[\"Real Upper Band\"] = BollingerBand(original_df, 20, 2)\n",
        "original_df = original_df.dropna()\n",
        "original_df = original_df.iloc[::-1]\n",
        "original_df.to_csv('./DATA/MSFT.csv')\n",
        "original_df"
      ]
    },
    {
      "cell_type": "markdown",
      "id": "1c11875c-5ffc-4ee4-ad30-7145a0aa4e40",
      "metadata": {},
      "source": [
        "# MODEL TRAINING"
      ]
    },
    {
      "cell_type": "markdown",
      "id": "e8c566b5-ea48-4502-9fda-06d7bcdd3ee3",
      "metadata": {},
      "source": [
        "## 1. LSTM"
      ]
    },
    {
      "cell_type": "markdown",
      "id": "bead64bc-6d17-4a50-ab79-2e91bd968353",
      "metadata": {},
      "source": [
        "### a. Prepare Input"
      ]
    },
    {
      "cell_type": "code",
      "execution_count": null,
      "id": "acea8e8e-2662-4f79-8c59-3d900181965b",
      "metadata": {},
      "outputs": [],
      "source": [
        "original_df = pd.read_csv(\"./DATA/MSFT.csv\")\n",
        "dataset = original_df\n",
        "dataset = dataset[['close']].values\n",
        "dataset"
      ]
    },
    {
      "cell_type": "code",
      "execution_count": null,
      "id": "d230e1b3-cd30-449b-a014-cc034f0e2700",
      "metadata": {},
      "outputs": [],
      "source": [
        "scaler = MinMaxScaler(feature_range=(0,1))\n",
        "dataset = scaler.fit_transform(dataset)\n",
        "dataset"
      ]
    },
    {
      "cell_type": "code",
      "execution_count": null,
      "id": "fa0fa3d1-80d7-42d6-b22c-ef4393cff069",
      "metadata": {},
      "outputs": [],
      "source": [
        "X, y = [], []\n",
        "for i in range(60, len(dataset)):\n",
        "    X.append(dataset[i-60:i][:])\n",
        "    y.append(dataset[i][0])\n",
        "print(len(X))\n",
        "print(len(y))"
      ]
    },
    {
      "cell_type": "code",
      "execution_count": null,
      "id": "ea0277c3-144f-4c9c-8d9b-c2df3aab2d55",
      "metadata": {},
      "outputs": [],
      "source": [
        "X_train, y_train = np.array(X[:math.ceil(len(X)*0.8)]), np.array(y[:math.ceil(len(X)*0.8)])\n",
        "X_val, y_val = np.array(X[math.ceil(len(X)*0.8):math.ceil(len(X)*0.9)]), np.array(y[math.ceil(len(X)*0.8):math.ceil(len(X)*0.9)])\n",
        "X_test, y_test = np.array(X[math.ceil(len(X)*0.9):]), np.array(y[math.ceil(len(X)*0.9):])\n",
        "print(\"Size train: \", X_train.shape)\n",
        "print(\"Size validate: \", X_val.shape)\n",
        "print(\"Size test: \", X_test.shape)"
      ]
    },
    {
      "cell_type": "markdown",
      "id": "dab7a248-b529-443f-98b3-275f7c075aee",
      "metadata": {},
      "source": [
        "### b. Train Model"
      ]
    },
    {
      "cell_type": "code",
      "execution_count": null,
      "id": "ff25f5b6-4e61-4165-9074-6ae7f182483e",
      "metadata": {},
      "outputs": [],
      "source": [
        "model = Sequential()\n",
        "model.add(LSTM(50, return_sequences=True, input_shape = (X_train.shape[1], 1)))\n",
        "model.add(LSTM(50, return_sequences=False))\n",
        "model.add(Dense(20, activation=None))\n",
        "model.add(Dense(1, activation=None))\n",
        "model.compile(optimizer='adam', loss='mean_squared_error')\n",
        "model.fit(X_train, y_train, batch_size=32, epochs=20, shuffle=True, validation_data=(X_val, y_val))\n",
        "model.save(\"./MODEL/LSTM.h5\")"
      ]
    },
    {
      "cell_type": "markdown",
      "id": "73d5644b-0b9f-4519-9169-29863a4b17e0",
      "metadata": {},
      "source": [
        "### c. Test Model"
      ]
    },
    {
      "cell_type": "code",
      "execution_count": null,
      "id": "cdb4aac7-875f-4df4-9a8f-82bac7a7d583",
      "metadata": {},
      "outputs": [],
      "source": [
        "model_lstm = load_model('./MODEL/LSTM.h5')"
      ]
    },
    {
      "cell_type": "code",
      "execution_count": null,
      "id": "e6989d07-155f-4f31-b032-73d28f3a195c",
      "metadata": {
        "tags": []
      },
      "outputs": [],
      "source": [
        "predictions = model_lstm.predict(X_test)\n",
        "predictions = scaler.inverse_transform(predictions)"
      ]
    },
    {
      "cell_type": "code",
      "execution_count": null,
      "id": "6b57f8af-3e3b-45ec-8987-586ade21bfee",
      "metadata": {},
      "outputs": [],
      "source": [
        "prediction_df = original_df.iloc[-len(predictions):]\n",
        "prediction_df['predictions'] = predictions\n",
        "prediction_df"
      ]
    },
    {
      "cell_type": "code",
      "execution_count": null,
      "id": "9072c19a-b28d-4fd5-a1ca-cdf6654e5434",
      "metadata": {},
      "outputs": [],
      "source": [
        "plt.figure(figsize = (20, 10))\n",
        "plt.plot(original_df['close'][-300:])\n",
        "plt.plot(prediction_df['predictions'])\n",
        "plt.legend(['True price', 'Predict price'], loc = 'lower right')\n",
        "plt.show()"
      ]
    },
    {
      "cell_type": "markdown",
      "id": "05aea487-1d72-4b4f-a23f-1f0513231bef",
      "metadata": {},
      "source": [
        "### d. Combine Indicators"
      ]
    },
    {
      "cell_type": "markdown",
      "id": "30d4782c-876c-4c87-a49f-4c5437de2f45",
      "metadata": {},
      "source": [
        "#### + ROC"
      ]
    },
    {
      "cell_type": "code",
      "execution_count": null,
      "id": "b9e86573-312e-419f-92eb-5b33983e62cb",
      "metadata": {},
      "outputs": [],
      "source": [
        "original_df = pd.read_csv(\"./DATA/MSFT.csv\")\n",
        "dataset = original_df\n",
        "dataset = dataset[['close', 'ROC']].values\n",
        "dataset"
      ]
    },
    {
      "cell_type": "code",
      "execution_count": null,
      "id": "6011f195-0ece-43c8-80b3-c2ad57918880",
      "metadata": {},
      "outputs": [],
      "source": [
        "scaler = MinMaxScaler(feature_range=(0,1))\n",
        "dataset = scaler.fit_transform(dataset)\n",
        "dataset"
      ]
    },
    {
      "cell_type": "code",
      "execution_count": null,
      "id": "c49a89ec-eabf-4d1c-8bce-d2afefc16a83",
      "metadata": {},
      "outputs": [],
      "source": [
        "X, y = [], []\n",
        "for i in range(60, len(dataset)):\n",
        "    X.append(dataset[i-60:i][:])\n",
        "    y.append(dataset[i][0])\n",
        "print(len(X))\n",
        "print(len(y))"
      ]
    },
    {
      "cell_type": "code",
      "execution_count": null,
      "id": "e7a9dd12-fe36-428f-956b-87560fbe84cc",
      "metadata": {},
      "outputs": [],
      "source": [
        "X_train, y_train = np.array(X[:math.ceil(len(X)*0.8)]), np.array(y[:math.ceil(len(X)*0.8)])\n",
        "X_val, y_val = np.array(X[math.ceil(len(X)*0.8):math.ceil(len(X)*0.9)]), np.array(y[math.ceil(len(X)*0.8):math.ceil(len(X)*0.9)])\n",
        "X_test, y_test = np.array(X[math.ceil(len(X)*0.9):]), np.array(y[math.ceil(len(X)*0.9):])\n",
        "print(\"Size train: \", X_train.shape)\n",
        "print(\"Size validate: \", X_val.shape)\n",
        "print(\"Size test: \", X_test.shape)"
      ]
    },
    {
      "cell_type": "code",
      "execution_count": null,
      "id": "1de992ec-1429-45d3-939a-6c80f3292c06",
      "metadata": {},
      "outputs": [],
      "source": [
        "model = Sequential()\n",
        "model.add(LSTM(50, return_sequences=True, input_shape = (X_train.shape[1], 2)))\n",
        "model.add(LSTM(50, return_sequences=False))\n",
        "model.add(Dense(20, activation=None))\n",
        "model.add(Dense(1, activation=None))\n",
        "model.compile(optimizer='adam', loss='mean_squared_error')\n",
        "model.fit(X_train, y_train, batch_size=32, epochs=20, shuffle=True, validation_data=(X_val, y_val))\n",
        "model.save(\"./MODEL/LSTM_ROC.h5\")"
      ]
    },
    {
      "cell_type": "code",
      "execution_count": null,
      "id": "476e5579-c32e-4f84-be15-59ea93f916e6",
      "metadata": {},
      "outputs": [],
      "source": [
        "model_lstm = load_model('./MODEL/LSTM_ROC.h5')"
      ]
    },
    {
      "cell_type": "code",
      "execution_count": null,
      "id": "0cae4634-b5ad-4275-af16-1dbba0af10c7",
      "metadata": {},
      "outputs": [],
      "source": [
        "predictions = model_lstm.predict(X_test)\n",
        "predictions = scaler.inverse_transform(np.tile(predictions, (1, dataset.shape[1])))[:, 0]\n",
        "predictions"
      ]
    },
    {
      "cell_type": "code",
      "execution_count": null,
      "id": "8fc93497-7824-4d58-9a4a-9e10cc07c166",
      "metadata": {},
      "outputs": [],
      "source": [
        "prediction_df = original_df.iloc[-len(predictions):]\n",
        "prediction_df['predictions'] = predictions\n",
        "prediction_df"
      ]
    },
    {
      "cell_type": "code",
      "execution_count": null,
      "id": "b24e8330-9cc6-4ffe-9a71-236347be5ac5",
      "metadata": {},
      "outputs": [],
      "source": [
        "plt.figure(figsize = (20, 10))\n",
        "plt.plot(original_df['close'][-300:])\n",
        "plt.plot(prediction_df['predictions'])\n",
        "plt.legend(['True price', 'Predict price'], loc = 'lower right')\n",
        "plt.show()"
      ]
    },
    {
      "cell_type": "markdown",
      "id": "c726efe1-7a72-4d5d-941a-c363cfbc150a",
      "metadata": {},
      "source": [
        "#### + SMA"
      ]
    },
    {
      "cell_type": "code",
      "execution_count": null,
      "id": "3cfc2122-2554-45c0-a86b-869c47df6e2b",
      "metadata": {},
      "outputs": [],
      "source": [
        "original_df = pd.read_csv(\"./DATA/MSFT.csv\")\n",
        "dataset = original_df\n",
        "dataset = dataset[['close', 'SMA']].values\n",
        "\n",
        "scaler = MinMaxScaler(feature_range=(0,1))\n",
        "dataset = scaler.fit_transform(dataset)\n",
        "\n",
        "X, y = [], []\n",
        "for i in range(60, len(dataset)):\n",
        "    X.append(dataset[i-60:i][:])\n",
        "    y.append(dataset[i][0])\n",
        "\n",
        "X_train, y_train = np.array(X[:math.ceil(len(X)*0.8)]), np.array(y[:math.ceil(len(X)*0.8)])\n",
        "X_val, y_val = np.array(X[math.ceil(len(X)*0.8):math.ceil(len(X)*0.9)]), np.array(y[math.ceil(len(X)*0.8):math.ceil(len(X)*0.9)])\n",
        "X_test, y_test = np.array(X[math.ceil(len(X)*0.9):]), np.array(y[math.ceil(len(X)*0.9):])\n",
        "\n",
        "model = Sequential()\n",
        "model.add(LSTM(50, return_sequences=True, input_shape = (X_train.shape[1], 2)))\n",
        "model.add(LSTM(50, return_sequences=False))\n",
        "model.add(Dense(20, activation=None))\n",
        "model.add(Dense(1, activation=None))\n",
        "model.compile(optimizer='adam', loss='mean_squared_error')\n",
        "model.fit(X_train, y_train, batch_size=32, epochs=20, shuffle=True, validation_data=(X_val, y_val))\n",
        "model.save(\"./MODEL/LSTM_SMA.h5\")\n",
        "\n",
        "model_lstm = load_model('./MODEL/LSTM_SMA.h5')\n",
        "\n",
        "predictions = model_lstm.predict(X_test)\n",
        "predictions = scaler.inverse_transform(np.tile(predictions, (1, dataset.shape[1])))[:, 0]\n",
        "\n",
        "prediction_df = original_df.iloc[-len(predictions):]\n",
        "prediction_df['predictions'] = predictions\n",
        "\n",
        "plt.figure(figsize = (20, 10))\n",
        "plt.plot(original_df['close'][-300:])\n",
        "plt.plot(prediction_df['predictions'])\n",
        "plt.legend(['True price', 'Predict price'], loc = 'lower right')\n",
        "plt.show()"
      ]
    },
    {
      "cell_type": "markdown",
      "id": "aa6ff5d3-2121-49a4-9f12-473e2ca11152",
      "metadata": {},
      "source": [
        "#### + RSI"
      ]
    },
    {
      "cell_type": "code",
      "execution_count": null,
      "id": "ab68ede5-bb7e-424f-99fb-7305840a5072",
      "metadata": {},
      "outputs": [],
      "source": [
        "original_df = pd.read_csv(\"./DATA/MSFT.csv\")\n",
        "dataset = original_df\n",
        "dataset = dataset[['close', 'RSI']].values\n",
        "\n",
        "scaler = MinMaxScaler(feature_range=(0,1))\n",
        "dataset = scaler.fit_transform(dataset)\n",
        "\n",
        "X, y = [], []\n",
        "for i in range(60, len(dataset)):\n",
        "    X.append(dataset[i-60:i][:])\n",
        "    y.append(dataset[i][0])\n",
        "\n",
        "X_train, y_train = np.array(X[:math.ceil(len(X)*0.8)]), np.array(y[:math.ceil(len(X)*0.8)])\n",
        "X_val, y_val = np.array(X[math.ceil(len(X)*0.8):math.ceil(len(X)*0.9)]), np.array(y[math.ceil(len(X)*0.8):math.ceil(len(X)*0.9)])\n",
        "X_test, y_test = np.array(X[math.ceil(len(X)*0.9):]), np.array(y[math.ceil(len(X)*0.9):])\n",
        "\n",
        "model = Sequential()\n",
        "model.add(LSTM(50, return_sequences=True, input_shape = (X_train.shape[1], 2)))\n",
        "model.add(LSTM(50, return_sequences=False))\n",
        "model.add(Dense(20, activation=None))\n",
        "model.add(Dense(1, activation=None))\n",
        "model.compile(optimizer='adam', loss='mean_squared_error')\n",
        "model.fit(X_train, y_train, batch_size=32, epochs=20, shuffle=True, validation_data=(X_val, y_val))\n",
        "model.save(\"./MODEL/LSTM_RSI.h5\")\n",
        "\n",
        "model_lstm = load_model('./MODEL/LSTM_RSI.h5')\n",
        "\n",
        "predictions = model_lstm.predict(X_test)\n",
        "predictions = scaler.inverse_transform(np.tile(predictions, (1, dataset.shape[1])))[:, 0]\n",
        "\n",
        "prediction_df = original_df.iloc[-len(predictions):]\n",
        "prediction_df['predictions'] = predictions\n",
        "\n",
        "plt.figure(figsize = (20, 10))\n",
        "plt.plot(original_df['close'][-300:])\n",
        "plt.plot(prediction_df['predictions'])\n",
        "plt.legend(['True price', 'Predict price'], loc = 'lower right')\n",
        "plt.show()"
      ]
    },
    {
      "cell_type": "markdown",
      "id": "660a13ab-e1c2-41da-9a98-5ba9a62e5e82",
      "metadata": {},
      "source": [
        "#### + BBANDS"
      ]
    },
    {
      "cell_type": "code",
      "execution_count": null,
      "id": "5f3d5e6d-af66-4362-b068-331e0689107c",
      "metadata": {},
      "outputs": [],
      "source": [
        "original_df = pd.read_csv(\"./DATA/MSFT.csv\")\n",
        "dataset = original_df\n",
        "dataset = dataset[['close', 'Real Lower Band', 'Real Middle Band', 'Real Upper Band']].values\n",
        "\n",
        "scaler = MinMaxScaler(feature_range=(0,1))\n",
        "dataset = scaler.fit_transform(dataset)\n",
        "\n",
        "X, y = [], []\n",
        "for i in range(60, len(dataset)):\n",
        "    X.append(dataset[i-60:i][:])\n",
        "    y.append(dataset[i][0])\n",
        "\n",
        "X_train, y_train = np.array(X[:math.ceil(len(X)*0.8)]), np.array(y[:math.ceil(len(X)*0.8)])\n",
        "X_val, y_val = np.array(X[math.ceil(len(X)*0.8):math.ceil(len(X)*0.9)]), np.array(y[math.ceil(len(X)*0.8):math.ceil(len(X)*0.9)])\n",
        "X_test, y_test = np.array(X[math.ceil(len(X)*0.9):]), np.array(y[math.ceil(len(X)*0.9):])\n",
        "\n",
        "model = Sequential()\n",
        "model.add(LSTM(50, return_sequences=True, input_shape = (X_train.shape[1], dataset.shape[1])))\n",
        "model.add(LSTM(50, return_sequences=False))\n",
        "model.add(Dense(20, activation=None))\n",
        "model.add(Dense(1, activation=None))\n",
        "model.compile(optimizer='adam', loss='mean_squared_error')\n",
        "model.fit(X_train, y_train, batch_size=32, epochs=20, shuffle=True, validation_data=(X_val, y_val))\n",
        "model.save(\"./MODEL/LSTM_BBANDS.h5\")\n",
        "\n",
        "model_lstm = load_model('./MODEL/LSTM_BBANDS.h5')\n",
        "\n",
        "predictions = model_lstm.predict(X_test)\n",
        "predictions = scaler.inverse_transform(np.tile(predictions, (1, dataset.shape[1])))[:, 0]\n",
        "\n",
        "prediction_df = original_df.iloc[-len(predictions):]\n",
        "prediction_df['predictions'] = predictions\n",
        "\n",
        "plt.figure(figsize = (20, 10))\n",
        "plt.plot(original_df['close'][-300:])\n",
        "plt.plot(prediction_df['predictions'])\n",
        "plt.legend(['True price', 'Predict price'], loc = 'lower right')\n",
        "plt.show()"
      ]
    },
    {
      "cell_type": "markdown",
      "id": "9e6a046e-a47f-4fa5-bc68-62626ca7ce08",
      "metadata": {},
      "source": [
        "#### + BBANDS + ROC"
      ]
    },
    {
      "cell_type": "code",
      "execution_count": null,
      "id": "b01a928e-46a1-4a1f-a5ae-bcedb48193c2",
      "metadata": {},
      "outputs": [],
      "source": [
        "original_df = pd.read_csv(\"./DATA/MSFT.csv\")\n",
        "dataset = original_df\n",
        "dataset = dataset[['close', 'Real Lower Band', 'Real Middle Band', 'Real Upper Band', 'ROC']].values\n",
        "\n",
        "scaler = MinMaxScaler(feature_range=(0,1))\n",
        "dataset = scaler.fit_transform(dataset)\n",
        "\n",
        "X, y = [], []\n",
        "for i in range(60, len(dataset)):\n",
        "    X.append(dataset[i-60:i][:])\n",
        "    y.append(dataset[i][0])\n",
        "\n",
        "X_train, y_train = np.array(X[:math.ceil(len(X)*0.8)]), np.array(y[:math.ceil(len(X)*0.8)])\n",
        "X_val, y_val = np.array(X[math.ceil(len(X)*0.8):math.ceil(len(X)*0.9)]), np.array(y[math.ceil(len(X)*0.8):math.ceil(len(X)*0.9)])\n",
        "X_test, y_test = np.array(X[math.ceil(len(X)*0.9):]), np.array(y[math.ceil(len(X)*0.9):])\n",
        "\n",
        "model = Sequential()\n",
        "model.add(LSTM(50, return_sequences=True, input_shape = (X_train.shape[1], dataset.shape[1])))\n",
        "model.add(LSTM(50, return_sequences=False))\n",
        "model.add(Dense(20, activation=None))\n",
        "model.add(Dense(1, activation=None))\n",
        "model.compile(optimizer='adam', loss='mean_squared_error')\n",
        "model.fit(X_train, y_train, batch_size=32, epochs=20, shuffle=True, validation_data=(X_val, y_val))\n",
        "model.save(\"./MODEL/LSTM_BBANDS_ROC.h5\")\n",
        "\n",
        "model_lstm = load_model('./MODEL/LSTM_BBANDS_ROC.h5')\n",
        "\n",
        "predictions = model_lstm.predict(X_test)\n",
        "predictions = scaler.inverse_transform(np.tile(predictions, (1, dataset.shape[1])))[:, 0]\n",
        "\n",
        "prediction_df = original_df.iloc[-len(predictions):]\n",
        "prediction_df['predictions'] = predictions\n",
        "\n",
        "plt.figure(figsize = (20, 10))\n",
        "plt.plot(original_df['close'][-300:])\n",
        "plt.plot(prediction_df['predictions'])\n",
        "plt.legend(['True price', 'Predict price'], loc = 'lower right')\n",
        "plt.show()"
      ]
    },
    {
      "cell_type": "markdown",
      "id": "839bd223-dda4-42e8-be4b-150e19f8fd4c",
      "metadata": {},
      "source": [
        "#### + BBANDS + RSI"
      ]
    },
    {
      "cell_type": "code",
      "execution_count": null,
      "id": "ed056650-35f7-4b9e-bc36-758fd3859163",
      "metadata": {},
      "outputs": [],
      "source": [
        "original_df = pd.read_csv(\"./DATA/MSFT.csv\")\n",
        "dataset = original_df\n",
        "dataset = dataset[['close', 'Real Lower Band', 'Real Middle Band', 'Real Upper Band', 'RSI']].values\n",
        "\n",
        "scaler = MinMaxScaler(feature_range=(0,1))\n",
        "dataset = scaler.fit_transform(dataset)\n",
        "\n",
        "X, y = [], []\n",
        "for i in range(60, len(dataset)):\n",
        "    X.append(dataset[i-60:i][:])\n",
        "    y.append(dataset[i][0])\n",
        "\n",
        "X_train, y_train = np.array(X[:math.ceil(len(X)*0.8)]), np.array(y[:math.ceil(len(X)*0.8)])\n",
        "X_val, y_val = np.array(X[math.ceil(len(X)*0.8):math.ceil(len(X)*0.9)]), np.array(y[math.ceil(len(X)*0.8):math.ceil(len(X)*0.9)])\n",
        "X_test, y_test = np.array(X[math.ceil(len(X)*0.9):]), np.array(y[math.ceil(len(X)*0.9):])\n",
        "\n",
        "model = Sequential()\n",
        "model.add(LSTM(50, return_sequences=True, input_shape = (X_train.shape[1], dataset.shape[1])))\n",
        "model.add(LSTM(50, return_sequences=False))\n",
        "model.add(Dense(20, activation=None))\n",
        "model.add(Dense(1, activation=None))\n",
        "model.compile(optimizer='adam', loss='mean_squared_error')\n",
        "model.fit(X_train, y_train, batch_size=32, epochs=20, shuffle=True, validation_data=(X_val, y_val))\n",
        "model.save(\"./MODEL/LSTM_BBANDS_RSI.h5\")\n",
        "\n",
        "model_lstm = load_model('./MODEL/LSTM_BBANDS_RSI.h5')\n",
        "\n",
        "predictions = model_lstm.predict(X_test)\n",
        "predictions = scaler.inverse_transform(np.tile(predictions, (1, dataset.shape[1])))[:, 0]\n",
        "\n",
        "prediction_df = original_df.iloc[-len(predictions):]\n",
        "prediction_df['predictions'] = predictions\n",
        "\n",
        "plt.figure(figsize = (20, 10))\n",
        "plt.plot(original_df['close'][-300:])\n",
        "plt.plot(prediction_df['predictions'])\n",
        "plt.legend(['True price', 'Predict price'], loc = 'lower right')\n",
        "plt.show()"
      ]
    },
    {
      "cell_type": "markdown",
      "id": "d297494c-2af8-40e5-9b67-2fced1445b21",
      "metadata": {},
      "source": [
        "#### + BBANDS + SMA"
      ]
    },
    {
      "cell_type": "code",
      "execution_count": null,
      "id": "bb8f4593-8628-42e0-a292-4be35bf002bf",
      "metadata": {},
      "outputs": [],
      "source": [
        "original_df = pd.read_csv(\"./DATA/MSFT.csv\")\n",
        "dataset = original_df\n",
        "dataset = dataset[['close', 'Real Lower Band', 'Real Middle Band', 'Real Upper Band', 'SMA']].values\n",
        "\n",
        "scaler = MinMaxScaler(feature_range=(0,1))\n",
        "dataset = scaler.fit_transform(dataset)\n",
        "\n",
        "X, y = [], []\n",
        "for i in range(60, len(dataset)):\n",
        "    X.append(dataset[i-60:i][:])\n",
        "    y.append(dataset[i][0])\n",
        "\n",
        "X_train, y_train = np.array(X[:math.ceil(len(X)*0.8)]), np.array(y[:math.ceil(len(X)*0.8)])\n",
        "X_val, y_val = np.array(X[math.ceil(len(X)*0.8):math.ceil(len(X)*0.9)]), np.array(y[math.ceil(len(X)*0.8):math.ceil(len(X)*0.9)])\n",
        "X_test, y_test = np.array(X[math.ceil(len(X)*0.9):]), np.array(y[math.ceil(len(X)*0.9):])\n",
        "\n",
        "model = Sequential()\n",
        "model.add(LSTM(50, return_sequences=True, input_shape = (X_train.shape[1], dataset.shape[1])))\n",
        "model.add(LSTM(50, return_sequences=False))\n",
        "model.add(Dense(20, activation=None))\n",
        "model.add(Dense(1, activation=None))\n",
        "model.compile(optimizer='adam', loss='mean_squared_error')\n",
        "model.fit(X_train, y_train, batch_size=32, epochs=20, shuffle=True, validation_data=(X_val, y_val))\n",
        "model.save(\"./MODEL/LSTM_BBANDS_SMA.h5\")\n",
        "\n",
        "model_lstm = load_model('./MODEL/LSTM_BBANDS_SMA.h5')\n",
        "\n",
        "predictions = model_lstm.predict(X_test)\n",
        "predictions = scaler.inverse_transform(np.tile(predictions, (1, dataset.shape[1])))[:, 0]\n",
        "\n",
        "prediction_df = original_df.iloc[-len(predictions):]\n",
        "prediction_df['predictions'] = predictions\n",
        "\n",
        "plt.figure(figsize = (20, 10))\n",
        "plt.plot(original_df['close'][-300:])\n",
        "plt.plot(prediction_df['predictions'])\n",
        "plt.legend(['True price', 'Predict price'], loc = 'lower right')\n",
        "plt.show()"
      ]
    },
    {
      "cell_type": "markdown",
      "id": "84c909c5-5f95-4cd3-bc4b-abfd4258dda8",
      "metadata": {},
      "source": [
        "#### + ROC + RSI"
      ]
    },
    {
      "cell_type": "code",
      "execution_count": null,
      "id": "113dc11a-d3bd-4457-b418-a706c18cbbd3",
      "metadata": {},
      "outputs": [],
      "source": [
        "original_df = pd.read_csv(\"./DATA/MSFT.csv\")\n",
        "dataset = original_df\n",
        "dataset = dataset[['close', 'ROC', 'RSI']].values\n",
        "\n",
        "scaler = MinMaxScaler(feature_range=(0,1))\n",
        "dataset = scaler.fit_transform(dataset)\n",
        "\n",
        "X, y = [], []\n",
        "for i in range(60, len(dataset)):\n",
        "    X.append(dataset[i-60:i][:])\n",
        "    y.append(dataset[i][0])\n",
        "\n",
        "X_train, y_train = np.array(X[:math.ceil(len(X)*0.8)]), np.array(y[:math.ceil(len(X)*0.8)])\n",
        "X_val, y_val = np.array(X[math.ceil(len(X)*0.8):math.ceil(len(X)*0.9)]), np.array(y[math.ceil(len(X)*0.8):math.ceil(len(X)*0.9)])\n",
        "X_test, y_test = np.array(X[math.ceil(len(X)*0.9):]), np.array(y[math.ceil(len(X)*0.9):])\n",
        "\n",
        "model = Sequential()\n",
        "model.add(LSTM(50, return_sequences=True, input_shape = (X_train.shape[1], dataset.shape[1])))\n",
        "model.add(LSTM(50, return_sequences=False))\n",
        "model.add(Dense(20, activation=None))\n",
        "model.add(Dense(1, activation=None))\n",
        "model.compile(optimizer='adam', loss='mean_squared_error')\n",
        "model.fit(X_train, y_train, batch_size=32, epochs=20, shuffle=True, validation_data=(X_val, y_val))\n",
        "model.save(\"./MODEL/LSTM_ROC_RSI.h5\")\n",
        "\n",
        "model_lstm = load_model('./MODEL/LSTM_ROC_RSI.h5')\n",
        "\n",
        "predictions = model_lstm.predict(X_test)\n",
        "predictions = scaler.inverse_transform(np.tile(predictions, (1, dataset.shape[1])))[:, 0]\n",
        "\n",
        "prediction_df = original_df.iloc[-len(predictions):]\n",
        "prediction_df['predictions'] = predictions\n",
        "\n",
        "plt.figure(figsize = (20, 10))\n",
        "plt.plot(original_df['close'][-300:])\n",
        "plt.plot(prediction_df['predictions'])\n",
        "plt.legend(['True price', 'Predict price'], loc = 'lower right')\n",
        "plt.show()"
      ]
    },
    {
      "cell_type": "markdown",
      "id": "3e720e2e-a13d-45cd-a892-99aae3314a5a",
      "metadata": {},
      "source": [
        "#### + ROC + SMA"
      ]
    },
    {
      "cell_type": "code",
      "execution_count": null,
      "id": "efa7b44a-378f-4fde-8429-73756944acef",
      "metadata": {},
      "outputs": [],
      "source": [
        "original_df = pd.read_csv(\"./DATA/MSFT.csv\")\n",
        "dataset = original_df\n",
        "dataset = dataset[['close', 'ROC', 'SMA']].values\n",
        "\n",
        "scaler = MinMaxScaler(feature_range=(0,1))\n",
        "dataset = scaler.fit_transform(dataset)\n",
        "\n",
        "X, y = [], []\n",
        "for i in range(60, len(dataset)):\n",
        "    X.append(dataset[i-60:i][:])\n",
        "    y.append(dataset[i][0])\n",
        "\n",
        "X_train, y_train = np.array(X[:math.ceil(len(X)*0.8)]), np.array(y[:math.ceil(len(X)*0.8)])\n",
        "X_val, y_val = np.array(X[math.ceil(len(X)*0.8):math.ceil(len(X)*0.9)]), np.array(y[math.ceil(len(X)*0.8):math.ceil(len(X)*0.9)])\n",
        "X_test, y_test = np.array(X[math.ceil(len(X)*0.9):]), np.array(y[math.ceil(len(X)*0.9):])\n",
        "\n",
        "model = Sequential()\n",
        "model.add(LSTM(50, return_sequences=True, input_shape = (X_train.shape[1], dataset.shape[1])))\n",
        "model.add(LSTM(50, return_sequences=False))\n",
        "model.add(Dense(20, activation=None))\n",
        "model.add(Dense(1, activation=None))\n",
        "model.compile(optimizer='adam', loss='mean_squared_error')\n",
        "model.fit(X_train, y_train, batch_size=32, epochs=20, shuffle=True, validation_data=(X_val, y_val))\n",
        "model.save(\"./MODEL/LSTM_ROC_SMA.h5\")\n",
        "\n",
        "model_lstm = load_model('./MODEL/LSTM_ROC_SMA.h5')\n",
        "\n",
        "predictions = model_lstm.predict(X_test)\n",
        "predictions = scaler.inverse_transform(np.tile(predictions, (1, dataset.shape[1])))[:, 0]\n",
        "\n",
        "prediction_df = original_df.iloc[-len(predictions):]\n",
        "prediction_df['predictions'] = predictions\n",
        "\n",
        "plt.figure(figsize = (20, 10))\n",
        "plt.plot(original_df['close'][-300:])\n",
        "plt.plot(prediction_df['predictions'])\n",
        "plt.legend(['True price', 'Predict price'], loc = 'lower right')\n",
        "plt.show()"
      ]
    },
    {
      "cell_type": "markdown",
      "id": "fac0ff3c-5760-4bbb-8993-0d1b83a5a252",
      "metadata": {},
      "source": [
        "#### + RSI + SMA"
      ]
    },
    {
      "cell_type": "code",
      "execution_count": null,
      "id": "b03d5a34-e948-48f7-81dd-0dee744cea02",
      "metadata": {},
      "outputs": [],
      "source": [
        "original_df = pd.read_csv(\"./DATA/MSFT.csv\")\n",
        "dataset = original_df\n",
        "dataset = dataset[['close', 'RSI', 'SMA']].values\n",
        "\n",
        "scaler = MinMaxScaler(feature_range=(0,1))\n",
        "dataset = scaler.fit_transform(dataset)\n",
        "\n",
        "X, y = [], []\n",
        "for i in range(60, len(dataset)):\n",
        "    X.append(dataset[i-60:i][:])\n",
        "    y.append(dataset[i][0])\n",
        "\n",
        "X_train, y_train = np.array(X[:math.ceil(len(X)*0.8)]), np.array(y[:math.ceil(len(X)*0.8)])\n",
        "X_val, y_val = np.array(X[math.ceil(len(X)*0.8):math.ceil(len(X)*0.9)]), np.array(y[math.ceil(len(X)*0.8):math.ceil(len(X)*0.9)])\n",
        "X_test, y_test = np.array(X[math.ceil(len(X)*0.9):]), np.array(y[math.ceil(len(X)*0.9):])\n",
        "\n",
        "model = Sequential()\n",
        "model.add(LSTM(50, return_sequences=True, input_shape = (X_train.shape[1], dataset.shape[1])))\n",
        "model.add(LSTM(50, return_sequences=False))\n",
        "model.add(Dense(20, activation=None))\n",
        "model.add(Dense(1, activation=None))\n",
        "model.compile(optimizer='adam', loss='mean_squared_error')\n",
        "model.fit(X_train, y_train, batch_size=32, epochs=20, shuffle=True, validation_data=(X_val, y_val))\n",
        "model.save(\"./MODEL/LSTM_RSI_SMA.h5\")\n",
        "\n",
        "model_lstm = load_model('./MODEL/LSTM_RSI_SMA.h5')\n",
        "\n",
        "predictions = model_lstm.predict(X_test)\n",
        "predictions = scaler.inverse_transform(np.tile(predictions, (1, dataset.shape[1])))[:, 0]\n",
        "\n",
        "prediction_df = original_df.iloc[-len(predictions):]\n",
        "prediction_df['predictions'] = predictions\n",
        "\n",
        "plt.figure(figsize = (20, 10))\n",
        "plt.plot(original_df['close'][-300:])\n",
        "plt.plot(prediction_df['predictions'])\n",
        "plt.legend(['True price', 'Predict price'], loc = 'lower right')\n",
        "plt.show()"
      ]
    },
    {
      "cell_type": "markdown",
      "id": "a501df6b-00ad-4628-aba7-ba1f4bbed785",
      "metadata": {},
      "source": [
        "#### + BBANDS + ROC + RSI"
      ]
    },
    {
      "cell_type": "code",
      "execution_count": null,
      "id": "c1d61f6c-c018-4d80-a0ba-754b2fb9e3cf",
      "metadata": {},
      "outputs": [],
      "source": [
        "original_df = pd.read_csv(\"./DATA/MSFT.csv\")\n",
        "dataset = original_df\n",
        "dataset = dataset[['close', 'Real Lower Band', 'Real Middle Band', 'Real Upper Band', 'ROC', 'RSI']].values\n",
        "\n",
        "scaler = MinMaxScaler(feature_range=(0,1))\n",
        "dataset = scaler.fit_transform(dataset)\n",
        "\n",
        "X, y = [], []\n",
        "for i in range(60, len(dataset)):\n",
        "    X.append(dataset[i-60:i][:])\n",
        "    y.append(dataset[i][0])\n",
        "\n",
        "X_train, y_train = np.array(X[:math.ceil(len(X)*0.8)]), np.array(y[:math.ceil(len(X)*0.8)])\n",
        "X_val, y_val = np.array(X[math.ceil(len(X)*0.8):math.ceil(len(X)*0.9)]), np.array(y[math.ceil(len(X)*0.8):math.ceil(len(X)*0.9)])\n",
        "X_test, y_test = np.array(X[math.ceil(len(X)*0.9):]), np.array(y[math.ceil(len(X)*0.9):])\n",
        "\n",
        "model = Sequential()\n",
        "model.add(LSTM(50, return_sequences=True, input_shape = (X_train.shape[1], dataset.shape[1])))\n",
        "model.add(LSTM(50, return_sequences=False))\n",
        "model.add(Dense(20, activation=None))\n",
        "model.add(Dense(1, activation=None))\n",
        "model.compile(optimizer='adam', loss='mean_squared_error')\n",
        "model.fit(X_train, y_train, batch_size=32, epochs=20, shuffle=True, validation_data=(X_val, y_val))\n",
        "model.save(\"./MODEL/LSTM_BBANDS_ROC_RSI.h5\")\n",
        "\n",
        "model_lstm = load_model('./MODEL/LSTM_BBANDS_ROC_RSI.h5')\n",
        "\n",
        "predictions = model_lstm.predict(X_test)\n",
        "predictions = scaler.inverse_transform(np.tile(predictions, (1, dataset.shape[1])))[:, 0]\n",
        "\n",
        "prediction_df = original_df.iloc[-len(predictions):]\n",
        "prediction_df['predictions'] = predictions\n",
        "\n",
        "plt.figure(figsize = (20, 10))\n",
        "plt.plot(original_df['close'][-300:])\n",
        "plt.plot(prediction_df['predictions'])\n",
        "plt.legend(['True price', 'Predict price'], loc = 'lower right')\n",
        "plt.show()"
      ]
    },
    {
      "cell_type": "markdown",
      "id": "216a498a-9f4f-424b-8679-a313f567b176",
      "metadata": {},
      "source": [
        "#### + BBANDS + ROC + SMA"
      ]
    },
    {
      "cell_type": "code",
      "execution_count": null,
      "id": "02f60852-bdb1-4395-9e81-e61ee3fc14f6",
      "metadata": {},
      "outputs": [],
      "source": [
        "original_df = pd.read_csv(\"./DATA/MSFT.csv\")\n",
        "dataset = original_df\n",
        "dataset = dataset[['close', 'Real Lower Band', 'Real Middle Band', 'Real Upper Band', 'ROC', 'SMA']].values\n",
        "\n",
        "scaler = MinMaxScaler(feature_range=(0,1))\n",
        "dataset = scaler.fit_transform(dataset)\n",
        "\n",
        "X, y = [], []\n",
        "for i in range(60, len(dataset)):\n",
        "    X.append(dataset[i-60:i][:])\n",
        "    y.append(dataset[i][0])\n",
        "\n",
        "X_train, y_train = np.array(X[:math.ceil(len(X)*0.8)]), np.array(y[:math.ceil(len(X)*0.8)])\n",
        "X_val, y_val = np.array(X[math.ceil(len(X)*0.8):math.ceil(len(X)*0.9)]), np.array(y[math.ceil(len(X)*0.8):math.ceil(len(X)*0.9)])\n",
        "X_test, y_test = np.array(X[math.ceil(len(X)*0.9):]), np.array(y[math.ceil(len(X)*0.9):])\n",
        "\n",
        "model = Sequential()\n",
        "model.add(LSTM(50, return_sequences=True, input_shape = (X_train.shape[1], dataset.shape[1])))\n",
        "model.add(LSTM(50, return_sequences=False))\n",
        "model.add(Dense(20, activation=None))\n",
        "model.add(Dense(1, activation=None))\n",
        "model.compile(optimizer='adam', loss='mean_squared_error')\n",
        "model.fit(X_train, y_train, batch_size=32, epochs=20, shuffle=True, validation_data=(X_val, y_val))\n",
        "model.save(\"./MODEL/LSTM_BBANDS_ROC_SMA.h5\")\n",
        "\n",
        "model_lstm = load_model('./MODEL/LSTM_BBANDS_ROC_SMA.h5')\n",
        "\n",
        "predictions = model_lstm.predict(X_test)\n",
        "predictions = scaler.inverse_transform(np.tile(predictions, (1, dataset.shape[1])))[:, 0]\n",
        "\n",
        "prediction_df = original_df.iloc[-len(predictions):]\n",
        "prediction_df['predictions'] = predictions\n",
        "\n",
        "plt.figure(figsize = (20, 10))\n",
        "plt.plot(original_df['close'][-300:])\n",
        "plt.plot(prediction_df['predictions'])\n",
        "plt.legend(['True price', 'Predict price'], loc = 'lower right')\n",
        "plt.show()"
      ]
    },
    {
      "cell_type": "markdown",
      "id": "d7762bb1-aa9c-473f-86ad-628a8df27be0",
      "metadata": {},
      "source": [
        "#### + BBANDS + RSI + SMA"
      ]
    },
    {
      "cell_type": "code",
      "execution_count": null,
      "id": "044ad639-daae-4fcb-a0d3-511d3f5d04c5",
      "metadata": {},
      "outputs": [],
      "source": [
        "original_df = pd.read_csv(\"./DATA/MSFT.csv\")\n",
        "dataset = original_df\n",
        "dataset = dataset[['close', 'Real Lower Band', 'Real Middle Band', 'Real Upper Band', 'RSI', 'SMA']].values\n",
        "\n",
        "scaler = MinMaxScaler(feature_range=(0,1))\n",
        "dataset = scaler.fit_transform(dataset)\n",
        "\n",
        "X, y = [], []\n",
        "for i in range(60, len(dataset)):\n",
        "    X.append(dataset[i-60:i][:])\n",
        "    y.append(dataset[i][0])\n",
        "\n",
        "X_train, y_train = np.array(X[:math.ceil(len(X)*0.8)]), np.array(y[:math.ceil(len(X)*0.8)])\n",
        "X_val, y_val = np.array(X[math.ceil(len(X)*0.8):math.ceil(len(X)*0.9)]), np.array(y[math.ceil(len(X)*0.8):math.ceil(len(X)*0.9)])\n",
        "X_test, y_test = np.array(X[math.ceil(len(X)*0.9):]), np.array(y[math.ceil(len(X)*0.9):])\n",
        "\n",
        "model = Sequential()\n",
        "model.add(LSTM(50, return_sequences=True, input_shape = (X_train.shape[1], dataset.shape[1])))\n",
        "model.add(LSTM(50, return_sequences=False))\n",
        "model.add(Dense(20, activation=None))\n",
        "model.add(Dense(1, activation=None))\n",
        "model.compile(optimizer='adam', loss='mean_squared_error')\n",
        "model.fit(X_train, y_train, batch_size=32, epochs=20, shuffle=True, validation_data=(X_val, y_val))\n",
        "model.save(\"./MODEL/LSTM_BBANDS_RSI_SMA.h5\")\n",
        "\n",
        "model_lstm = load_model('./MODEL/LSTM_BBANDS_RSI_SMA.h5')\n",
        "\n",
        "predictions = model_lstm.predict(X_test)\n",
        "predictions = scaler.inverse_transform(np.tile(predictions, (1, dataset.shape[1])))[:, 0]\n",
        "\n",
        "prediction_df = original_df.iloc[-len(predictions):]\n",
        "prediction_df['predictions'] = predictions\n",
        "\n",
        "plt.figure(figsize = (20, 10))\n",
        "plt.plot(original_df['close'][-300:])\n",
        "plt.plot(prediction_df['predictions'])\n",
        "plt.legend(['True price', 'Predict price'], loc = 'lower right')\n",
        "plt.show()"
      ]
    },
    {
      "cell_type": "markdown",
      "id": "76df7bd3-9074-4495-ab0a-7bfce22986b9",
      "metadata": {},
      "source": [
        "#### + ROC + RSI + SMA"
      ]
    },
    {
      "cell_type": "code",
      "execution_count": null,
      "id": "99d6c592-1ea8-4267-8e63-26975bfe3b55",
      "metadata": {},
      "outputs": [],
      "source": [
        "original_df = pd.read_csv(\"./DATA/MSFT.csv\")\n",
        "dataset = original_df\n",
        "dataset = dataset[['close', 'ROC', 'RSI', 'SMA']].values\n",
        "\n",
        "scaler = MinMaxScaler(feature_range=(0,1))\n",
        "dataset = scaler.fit_transform(dataset)\n",
        "\n",
        "X, y = [], []\n",
        "for i in range(60, len(dataset)):\n",
        "    X.append(dataset[i-60:i][:])\n",
        "    y.append(dataset[i][0])\n",
        "\n",
        "X_train, y_train = np.array(X[:math.ceil(len(X)*0.8)]), np.array(y[:math.ceil(len(X)*0.8)])\n",
        "X_val, y_val = np.array(X[math.ceil(len(X)*0.8):math.ceil(len(X)*0.9)]), np.array(y[math.ceil(len(X)*0.8):math.ceil(len(X)*0.9)])\n",
        "X_test, y_test = np.array(X[math.ceil(len(X)*0.9):]), np.array(y[math.ceil(len(X)*0.9):])\n",
        "\n",
        "model = Sequential()\n",
        "model.add(LSTM(50, return_sequences=True, input_shape = (X_train.shape[1], dataset.shape[1])))\n",
        "model.add(LSTM(50, return_sequences=False))\n",
        "model.add(Dense(20, activation=None))\n",
        "model.add(Dense(1, activation=None))\n",
        "model.compile(optimizer='adam', loss='mean_squared_error')\n",
        "model.fit(X_train, y_train, batch_size=32, epochs=20, shuffle=True, validation_data=(X_val, y_val))\n",
        "model.save(\"./MODEL/LSTM_ROC_RSI_SMA.h5\")\n",
        "\n",
        "model_lstm = load_model('./MODEL/LSTM_ROC_RSI_SMA.h5')\n",
        "\n",
        "predictions = model_lstm.predict(X_test)\n",
        "predictions = scaler.inverse_transform(np.tile(predictions, (1, dataset.shape[1])))[:, 0]\n",
        "\n",
        "prediction_df = original_df.iloc[-len(predictions):]\n",
        "prediction_df['predictions'] = predictions\n",
        "\n",
        "plt.figure(figsize = (20, 10))\n",
        "plt.plot(original_df['close'][-300:])\n",
        "plt.plot(prediction_df['predictions'])\n",
        "plt.legend(['True price', 'Predict price'], loc = 'lower right')\n",
        "plt.show()"
      ]
    },
    {
      "cell_type": "markdown",
      "id": "4882d049-54e7-4bfe-bd4e-c707c5c623d5",
      "metadata": {},
      "source": [
        "#### + BBANDS + ROC + RSI + SMA"
      ]
    },
    {
      "cell_type": "code",
      "execution_count": null,
      "id": "d957dbb3-0f7d-46fb-b757-11c4c8634e9b",
      "metadata": {},
      "outputs": [],
      "source": [
        "original_df = pd.read_csv(\"./DATA/MSFT.csv\")\n",
        "dataset = original_df\n",
        "dataset = dataset[['close', 'Real Lower Band', 'Real Middle Band', 'Real Upper Band', 'ROC', 'RSI', 'SMA']].values\n",
        "\n",
        "scaler = MinMaxScaler(feature_range=(0,1))\n",
        "dataset = scaler.fit_transform(dataset)\n",
        "\n",
        "X, y = [], []\n",
        "for i in range(60, len(dataset)):\n",
        "    X.append(dataset[i-60:i][:])\n",
        "    y.append(dataset[i][0])\n",
        "\n",
        "X_train, y_train = np.array(X[:math.ceil(len(X)*0.8)]), np.array(y[:math.ceil(len(X)*0.8)])\n",
        "X_val, y_val = np.array(X[math.ceil(len(X)*0.8):math.ceil(len(X)*0.9)]), np.array(y[math.ceil(len(X)*0.8):math.ceil(len(X)*0.9)])\n",
        "X_test, y_test = np.array(X[math.ceil(len(X)*0.9):]), np.array(y[math.ceil(len(X)*0.9):])\n",
        "\n",
        "model = Sequential()\n",
        "model.add(LSTM(50, return_sequences=True, input_shape = (X_train.shape[1], dataset.shape[1])))\n",
        "model.add(LSTM(50, return_sequences=False))\n",
        "model.add(Dense(20, activation=None))\n",
        "model.add(Dense(1, activation=None))\n",
        "model.compile(optimizer='adam', loss='mean_squared_error')\n",
        "model.fit(X_train, y_train, batch_size=32, epochs=20, shuffle=True, validation_data=(X_val, y_val))\n",
        "model.save(\"./MODEL/LSTM_BBANDS_ROC_RSI_SMA.h5\")\n",
        "\n",
        "model_lstm = load_model('./MODEL/LSTM_BBANDS_ROC_RSI_SMA.h5')\n",
        "\n",
        "predictions = model_lstm.predict(X_test)\n",
        "predictions = scaler.inverse_transform(np.tile(predictions, (1, dataset.shape[1])))[:, 0]\n",
        "\n",
        "prediction_df = original_df.iloc[-len(predictions):]\n",
        "prediction_df['predictions'] = predictions\n",
        "\n",
        "plt.figure(figsize = (20, 10))\n",
        "plt.plot(original_df['close'][-300:])\n",
        "plt.plot(prediction_df['predictions'])\n",
        "plt.legend(['True price', 'Predict price'], loc = 'lower right')\n",
        "plt.show()"
      ]
    },
    {
      "cell_type": "markdown",
      "id": "c5efc275-fb13-415c-bb44-f057eda9879f",
      "metadata": {},
      "source": [
        "### e. Predict Future"
      ]
    },
    {
      "cell_type": "code",
      "execution_count": null,
      "id": "90688b80-4e46-4414-909a-aacaf8ecaf1c",
      "metadata": {},
      "outputs": [],
      "source": [
        "def lstm_predict_future(data, modelName, indicatorArr, period):\n",
        "    modelFileName = './MODEL/' + modelName\n",
        "    sorted(indicatorArr)\n",
        "    for indicator in indicatorArr:\n",
        "        if indicator == 'close':\n",
        "            continue\n",
        "        modelFileName = modelFileName + '_' + indicator\n",
        "    modelFileName = modelFileName + '.h5'\n",
        "    model = load_model(modelFileName)\n",
        "    numDataPoint = int(period / 15)\n",
        "    \n",
        "    data = data[indicatorArr].values\n",
        "    data = data[-60:]\n",
        "\n",
        "    scaler = MinMaxScaler(feature_range=(0,1))\n",
        "    scaledData = scaler.fit_transform(data)\n",
        "\n",
        "    modelInput = scaledData.reshape(-1, scaledData.shape[0], scaledData.shape[1])\n",
        "\n",
        "    predictedScaledValue = model.predict(modelInput)\n",
        "\n",
        "    predictedValue = scaler.inverse_transform(np.tile(predictedScaledValue, (1, scaledData.shape[1])))[:, 0]\n",
        "    \n",
        "    return predictedValue"
      ]
    },
    {
      "cell_type": "markdown",
      "id": "41d1ae9b-4e90-42fd-9ab8-551eedf95d4a",
      "metadata": {},
      "source": [
        "## 2. RNN"
      ]
    },
    {
      "cell_type": "markdown",
      "id": "a0a9a64c-2b3c-4332-8ad1-eaa46aedf44f",
      "metadata": {},
      "source": [
        "### a. Prepare Input"
      ]
    },
    {
      "cell_type": "code",
      "execution_count": null,
      "id": "779110d7-c807-4c56-89a6-868ed59799f5",
      "metadata": {},
      "outputs": [],
      "source": [
        "original_df = pd.read_csv(\"./DATA/MSFT.csv\")\n",
        "dataset = original_df\n",
        "dataset = dataset[['close']].values\n",
        "dataset"
      ]
    },
    {
      "cell_type": "code",
      "execution_count": null,
      "id": "cda47e72-2506-43f9-978b-587a0f1ef313",
      "metadata": {},
      "outputs": [],
      "source": [
        "scaler = MinMaxScaler(feature_range=(0,1))\n",
        "dataset = scaler.fit_transform(dataset)\n",
        "dataset"
      ]
    },
    {
      "cell_type": "code",
      "execution_count": null,
      "id": "7fa012ed-40ed-4972-b1ef-7e9cafa249c7",
      "metadata": {},
      "outputs": [],
      "source": [
        "X, y = [], []\n",
        "for i in range(60, len(dataset)):\n",
        "    X.append(dataset[i-60:i][:])\n",
        "    y.append(dataset[i][0])\n",
        "print(len(X))\n",
        "print(len(y))"
      ]
    },
    {
      "cell_type": "code",
      "execution_count": null,
      "id": "88e1ed0c-2273-4d77-9c3b-c329410e6341",
      "metadata": {},
      "outputs": [],
      "source": [
        "X_train, y_train = np.array(X[:math.ceil(len(X)*0.8)]), np.array(y[:math.ceil(len(X)*0.8)])\n",
        "X_val, y_val = np.array(X[math.ceil(len(X)*0.8):math.ceil(len(X)*0.9)]), np.array(y[math.ceil(len(X)*0.8):math.ceil(len(X)*0.9)])\n",
        "X_test, y_test = np.array(X[math.ceil(len(X)*0.9):]), np.array(y[math.ceil(len(X)*0.9):])\n",
        "print(\"Size train: \", X_train.shape)\n",
        "print(\"Size validate: \", X_val.shape)\n",
        "print(\"Size test: \", X_test.shape)"
      ]
    },
    {
      "cell_type": "markdown",
      "id": "504db9b4-1d9f-44b7-b1b5-f3c6b6141af2",
      "metadata": {},
      "source": [
        "### b. Train Model"
      ]
    },
    {
      "cell_type": "code",
      "execution_count": null,
      "id": "d09de593-4d2f-4a44-a90d-ec9884be1e7f",
      "metadata": {
        "tags": []
      },
      "outputs": [],
      "source": [
        "model = Sequential()\n",
        "model.add(LSTM(units=50, return_sequences=True, input_shape=(X_train.shape[1],1)))\n",
        "model.add(Dropout(0.2))\n",
        "model.add(LSTM(units=50, return_sequences=True))\n",
        "model.add(Dropout(0.2))\n",
        "model.add(LSTM(units=50, return_sequences=True))\n",
        "model.add(Dropout(0.2))\n",
        "model.add(LSTM(units=50))\n",
        "model.add(Dropout(0.2))\n",
        "model.add(Dense(units=1))\n",
        "model.compile(optimizer='adam', loss='mean_squared_error')\n",
        "model.fit(X_train, y_train, epochs=25, batch_size=32, shuffle=True, validation_data=(X_val, y_val))\n",
        "model.save(\"./MODEL/RNN.h5\")"
      ]
    },
    {
      "cell_type": "markdown",
      "id": "5c31e5a2-aabf-4ca4-8059-6c03519ea2a6",
      "metadata": {},
      "source": [
        "### c. Test Model"
      ]
    },
    {
      "cell_type": "code",
      "execution_count": null,
      "id": "ad5cda61-33c0-4d83-9551-685bee35dbc2",
      "metadata": {},
      "outputs": [],
      "source": [
        "model_rnn = load_model('./MODEL/RNN.h5')"
      ]
    },
    {
      "cell_type": "code",
      "execution_count": null,
      "id": "92cc7a1d-df60-45ff-8d36-0935b9e6b1e1",
      "metadata": {},
      "outputs": [],
      "source": [
        "predictions = model_rnn.predict(X_test)\n",
        "predictions = scaler.inverse_transform(predictions)"
      ]
    },
    {
      "cell_type": "code",
      "execution_count": null,
      "id": "313441f0-57b4-4b9a-bd60-74b9ca8254ec",
      "metadata": {},
      "outputs": [],
      "source": [
        "prediction_df = original_df.iloc[-len(predictions):]\n",
        "prediction_df['predictions'] = predictions\n",
        "prediction_df"
      ]
    },
    {
      "cell_type": "code",
      "execution_count": null,
      "id": "8a488b92-77c0-4d53-b4dd-6fffe89d1765",
      "metadata": {},
      "outputs": [],
      "source": [
        "plt.figure(figsize = (20, 10))\n",
        "plt.plot(original_df['close'][-300:])\n",
        "plt.plot(prediction_df['predictions'])\n",
        "plt.legend(['True price', 'Predict price'], loc = 'lower right')\n",
        "plt.show()"
      ]
    },
    {
      "cell_type": "markdown",
      "id": "aaa21520-695b-44e2-8efa-cc666a95f172",
      "metadata": {},
      "source": [
        "### d. Combine Indicators"
      ]
    },
    {
      "cell_type": "markdown",
      "id": "a24fd6d8-291c-4865-b52f-0b8ba33cfd05",
      "metadata": {},
      "source": [
        "#### + ROC"
      ]
    },
    {
      "cell_type": "code",
      "execution_count": null,
      "id": "0c32e4af-f6eb-42b3-9f3c-e43378b876f9",
      "metadata": {},
      "outputs": [],
      "source": [
        "original_df = pd.read_csv(\"./DATA/MSFT.csv\")\n",
        "dataset = original_df\n",
        "dataset = dataset[['close', 'ROC']].values\n",
        "dataset"
      ]
    },
    {
      "cell_type": "code",
      "execution_count": null,
      "id": "796c1236-4824-43c2-92b4-ac0eb482dc31",
      "metadata": {},
      "outputs": [],
      "source": [
        "scaler = MinMaxScaler(feature_range=(0,1))\n",
        "dataset = scaler.fit_transform(dataset)\n",
        "dataset"
      ]
    },
    {
      "cell_type": "code",
      "execution_count": null,
      "id": "68d6137e-3605-43d8-925c-a00d4fc558e5",
      "metadata": {},
      "outputs": [],
      "source": [
        "X, y = [], []\n",
        "for i in range(60, len(dataset)):\n",
        "    X.append(dataset[i-60:i][:])\n",
        "    y.append(dataset[i][0])\n",
        "print(len(X))\n",
        "print(len(y))"
      ]
    },
    {
      "cell_type": "code",
      "execution_count": null,
      "id": "ab4d6b85-6cf5-4db2-bb19-837917aaef6a",
      "metadata": {},
      "outputs": [],
      "source": [
        "X_train, y_train = np.array(X[:math.ceil(len(X)*0.8)]), np.array(y[:math.ceil(len(X)*0.8)])\n",
        "X_val, y_val = np.array(X[math.ceil(len(X)*0.8):math.ceil(len(X)*0.9)]), np.array(y[math.ceil(len(X)*0.8):math.ceil(len(X)*0.9)])\n",
        "X_test, y_test = np.array(X[math.ceil(len(X)*0.9):]), np.array(y[math.ceil(len(X)*0.9):])\n",
        "print(\"Size train: \", X_train.shape)\n",
        "print(\"Size validate: \", X_val.shape)\n",
        "print(\"Size test: \", X_test.shape)"
      ]
    },
    {
      "cell_type": "code",
      "execution_count": null,
      "id": "1e208b4b-574c-4fdf-9d11-aa48568e905a",
      "metadata": {},
      "outputs": [],
      "source": [
        "model = Sequential()\n",
        "model.add(LSTM(units=50, return_sequences=True, input_shape=(X_train.shape[1],2)))\n",
        "model.add(Dropout(0.2))\n",
        "model.add(LSTM(units=50, return_sequences=True))\n",
        "model.add(Dropout(0.2))\n",
        "model.add(LSTM(units=50, return_sequences=True))\n",
        "model.add(Dropout(0.2))\n",
        "model.add(LSTM(units=50))\n",
        "model.add(Dropout(0.2))\n",
        "model.add(Dense(units=1))\n",
        "model.compile(optimizer='adam', loss='mean_squared_error')\n",
        "model.fit(X_train, y_train, epochs=25, batch_size=32, shuffle=True, validation_data=(X_val, y_val))\n",
        "model.save(\"./MODEL/RNN_ROC.h5\")"
      ]
    },
    {
      "cell_type": "code",
      "execution_count": null,
      "id": "4f4b46e9-4091-47a0-940e-e0b8149cb97a",
      "metadata": {},
      "outputs": [],
      "source": [
        "model_rnn = load_model('./MODEL/RNN_ROC.h5')"
      ]
    },
    {
      "cell_type": "code",
      "execution_count": null,
      "id": "9688eec3-368d-465d-809e-fca31763fb70",
      "metadata": {},
      "outputs": [],
      "source": [
        "predictions = model_rnn.predict(X_test)\n",
        "predictions = scaler.inverse_transform(np.tile(predictions, (1, 2)))[:, 0]"
      ]
    },
    {
      "cell_type": "code",
      "execution_count": null,
      "id": "eafd9564-e0d9-4f28-baad-317bf78b460a",
      "metadata": {},
      "outputs": [],
      "source": [
        "prediction_df = original_df.iloc[-len(predictions):]\n",
        "prediction_df['predictions'] = predictions\n",
        "prediction_df"
      ]
    },
    {
      "cell_type": "code",
      "execution_count": null,
      "id": "bd941443-0983-4cee-8a2d-b0db9e86ed75",
      "metadata": {},
      "outputs": [],
      "source": [
        "plt.figure(figsize = (20, 10))\n",
        "plt.plot(original_df['close'][-300:])\n",
        "plt.plot(prediction_df['predictions'])\n",
        "plt.legend(['True price', 'Predict price'], loc = 'lower right')\n",
        "plt.show()"
      ]
    },
    {
      "cell_type": "markdown",
      "id": "c79b7690-23c8-474d-a238-ca8afa99467f",
      "metadata": {},
      "source": [
        "#### + SMA"
      ]
    },
    {
      "cell_type": "code",
      "execution_count": null,
      "id": "f29fddf2-9688-4a58-a70d-1190231d4ece",
      "metadata": {},
      "outputs": [],
      "source": [
        "original_df = pd.read_csv(\"./DATA/MSFT.csv\")\n",
        "dataset = original_df\n",
        "dataset = dataset[['close', 'SMA']].values\n",
        "\n",
        "scaler = MinMaxScaler(feature_range=(0,1))\n",
        "dataset = scaler.fit_transform(dataset)\n",
        "\n",
        "X, y = [], []\n",
        "for i in range(60, len(dataset)):\n",
        "    X.append(dataset[i-60:i][:])\n",
        "    y.append(dataset[i][0])\n",
        "\n",
        "X_train, y_train = np.array(X[:math.ceil(len(X)*0.8)]), np.array(y[:math.ceil(len(X)*0.8)])\n",
        "X_val, y_val = np.array(X[math.ceil(len(X)*0.8):math.ceil(len(X)*0.9)]), np.array(y[math.ceil(len(X)*0.8):math.ceil(len(X)*0.9)])\n",
        "X_test, y_test = np.array(X[math.ceil(len(X)*0.9):]), np.array(y[math.ceil(len(X)*0.9):])\n",
        "\n",
        "model = Sequential()\n",
        "model.add(LSTM(units=50, return_sequences=True, input_shape=(X_train.shape[1], dataset.shape[1])))\n",
        "model.add(Dropout(0.2))\n",
        "model.add(LSTM(units=50, return_sequences=True))\n",
        "model.add(Dropout(0.2))\n",
        "model.add(LSTM(units=50, return_sequences=True))\n",
        "model.add(Dropout(0.2))\n",
        "model.add(LSTM(units=50))\n",
        "model.add(Dropout(0.2))\n",
        "model.add(Dense(units=1))\n",
        "model.compile(optimizer='adam', loss='mean_squared_error')\n",
        "model.fit(X_train, y_train, epochs=25, batch_size=32, shuffle=True, validation_data=(X_val, y_val))\n",
        "model.save(\"./MODEL/RNN_SMA.h5\")\n",
        "\n",
        "model_rnn = load_model('./MODEL/RNN_SMA.h5')\n",
        "\n",
        "predictions = model_rnn.predict(X_test)\n",
        "predictions = scaler.inverse_transform(np.tile(predictions, (1, dataset.shape[1])))[:, 0]\n",
        "\n",
        "prediction_df = original_df.iloc[-len(predictions):]\n",
        "prediction_df['predictions'] = predictions\n",
        "\n",
        "plt.figure(figsize = (20, 10))\n",
        "plt.plot(original_df['close'][-300:])\n",
        "plt.plot(prediction_df['predictions'])\n",
        "plt.legend(['True price', 'Predict price'], loc = 'lower right')\n",
        "plt.show()"
      ]
    },
    {
      "cell_type": "markdown",
      "id": "ed0f39c3-3610-4bea-81fa-5da30e98dc86",
      "metadata": {},
      "source": [
        "#### + RSI"
      ]
    },
    {
      "cell_type": "code",
      "execution_count": null,
      "id": "db8db718-8d51-46fc-becb-11d2e8ad192c",
      "metadata": {},
      "outputs": [],
      "source": [
        "original_df = pd.read_csv(\"./DATA/MSFT.csv\")\n",
        "dataset = original_df\n",
        "dataset = dataset[['close', 'RSI']].values\n",
        "\n",
        "scaler = MinMaxScaler(feature_range=(0,1))\n",
        "dataset = scaler.fit_transform(dataset)\n",
        "\n",
        "X, y = [], []\n",
        "for i in range(60, len(dataset)):\n",
        "    X.append(dataset[i-60:i][:])\n",
        "    y.append(dataset[i][0])\n",
        "\n",
        "X_train, y_train = np.array(X[:math.ceil(len(X)*0.8)]), np.array(y[:math.ceil(len(X)*0.8)])\n",
        "X_val, y_val = np.array(X[math.ceil(len(X)*0.8):math.ceil(len(X)*0.9)]), np.array(y[math.ceil(len(X)*0.8):math.ceil(len(X)*0.9)])\n",
        "X_test, y_test = np.array(X[math.ceil(len(X)*0.9):]), np.array(y[math.ceil(len(X)*0.9):])\n",
        "\n",
        "model = Sequential()\n",
        "model.add(LSTM(units=50, return_sequences=True, input_shape=(X_train.shape[1], dataset.shape[1])))\n",
        "model.add(Dropout(0.2))\n",
        "model.add(LSTM(units=50, return_sequences=True))\n",
        "model.add(Dropout(0.2))\n",
        "model.add(LSTM(units=50, return_sequences=True))\n",
        "model.add(Dropout(0.2))\n",
        "model.add(LSTM(units=50))\n",
        "model.add(Dropout(0.2))\n",
        "model.add(Dense(units=1))\n",
        "model.compile(optimizer='adam', loss='mean_squared_error')\n",
        "model.fit(X_train, y_train, epochs=25, batch_size=32, shuffle=True, validation_data=(X_val, y_val))\n",
        "model.save(\"./MODEL/RNN_RSI.h5\")\n",
        "\n",
        "model_rnn = load_model('./MODEL/RNN_RSI.h5')\n",
        "\n",
        "predictions = model_rnn.predict(X_test)\n",
        "predictions = scaler.inverse_transform(np.tile(predictions, (1, dataset.shape[1])))[:, 0]\n",
        "\n",
        "prediction_df = original_df.iloc[-len(predictions):]\n",
        "prediction_df['predictions'] = predictions\n",
        "\n",
        "plt.figure(figsize = (20, 10))\n",
        "plt.plot(original_df['close'][-300:])\n",
        "plt.plot(prediction_df['predictions'])\n",
        "plt.legend(['True price', 'Predict price'], loc = 'lower right')\n",
        "plt.show()"
      ]
    },
    {
      "cell_type": "markdown",
      "id": "dc246739-6740-44aa-9043-8502e83ab51f",
      "metadata": {},
      "source": [
        "#### + BBANDS"
      ]
    },
    {
      "cell_type": "code",
      "execution_count": null,
      "id": "f0b617f4-c177-4096-a80e-7d0ad064e875",
      "metadata": {},
      "outputs": [],
      "source": [
        "original_df = pd.read_csv(\"./DATA/MSFT.csv\")\n",
        "dataset = original_df\n",
        "dataset = dataset[['close', 'Real Lower Band', 'Real Middle Band', 'Real Upper Band']].values\n",
        "\n",
        "scaler = MinMaxScaler(feature_range=(0,1))\n",
        "dataset = scaler.fit_transform(dataset)\n",
        "\n",
        "X, y = [], []\n",
        "for i in range(60, len(dataset)):\n",
        "    X.append(dataset[i-60:i][:])\n",
        "    y.append(dataset[i][0])\n",
        "\n",
        "X_train, y_train = np.array(X[:math.ceil(len(X)*0.8)]), np.array(y[:math.ceil(len(X)*0.8)])\n",
        "X_val, y_val = np.array(X[math.ceil(len(X)*0.8):math.ceil(len(X)*0.9)]), np.array(y[math.ceil(len(X)*0.8):math.ceil(len(X)*0.9)])\n",
        "X_test, y_test = np.array(X[math.ceil(len(X)*0.9):]), np.array(y[math.ceil(len(X)*0.9):])\n",
        "\n",
        "model = Sequential()\n",
        "model.add(LSTM(units=50, return_sequences=True, input_shape=(X_train.shape[1], dataset.shape[1])))\n",
        "model.add(Dropout(0.2))\n",
        "model.add(LSTM(units=50, return_sequences=True))\n",
        "model.add(Dropout(0.2))\n",
        "model.add(LSTM(units=50, return_sequences=True))\n",
        "model.add(Dropout(0.2))\n",
        "model.add(LSTM(units=50))\n",
        "model.add(Dropout(0.2))\n",
        "model.add(Dense(units=1))\n",
        "model.compile(optimizer='adam', loss='mean_squared_error')\n",
        "model.fit(X_train, y_train, epochs=25, batch_size=32, shuffle=True, validation_data=(X_val, y_val))\n",
        "model.save(\"./MODEL/RNN_BBANDS.h5\")\n",
        "\n",
        "model_rnn = load_model('./MODEL/RNN_BBANDS.h5')\n",
        "\n",
        "predictions = model_rnn.predict(X_test)\n",
        "predictions = scaler.inverse_transform(np.tile(predictions, (1, dataset.shape[1])))[:, 0]\n",
        "\n",
        "prediction_df = original_df.iloc[-len(predictions):]\n",
        "prediction_df['predictions'] = predictions\n",
        "\n",
        "plt.figure(figsize = (20, 10))\n",
        "plt.plot(original_df['close'][-300:])\n",
        "plt.plot(prediction_df['predictions'])\n",
        "plt.legend(['True price', 'Predict price'], loc = 'lower right')\n",
        "plt.show()"
      ]
    },
    {
      "cell_type": "markdown",
      "id": "8574d117-1de4-4d80-bce2-15e3196340bf",
      "metadata": {},
      "source": [
        "#### + BBANDS + ROC"
      ]
    },
    {
      "cell_type": "code",
      "execution_count": null,
      "id": "0b7669ed-ec89-40c4-be3e-06e7c0911f1b",
      "metadata": {},
      "outputs": [],
      "source": [
        "original_df = pd.read_csv(\"./DATA/MSFT.csv\")\n",
        "dataset = original_df\n",
        "dataset = dataset[['close', 'Real Lower Band', 'Real Middle Band', 'Real Upper Band', 'ROC']].values\n",
        "\n",
        "scaler = MinMaxScaler(feature_range=(0,1))\n",
        "dataset = scaler.fit_transform(dataset)\n",
        "\n",
        "X, y = [], []\n",
        "for i in range(60, len(dataset)):\n",
        "    X.append(dataset[i-60:i][:])\n",
        "    y.append(dataset[i][0])\n",
        "\n",
        "X_train, y_train = np.array(X[:math.ceil(len(X)*0.8)]), np.array(y[:math.ceil(len(X)*0.8)])\n",
        "X_val, y_val = np.array(X[math.ceil(len(X)*0.8):math.ceil(len(X)*0.9)]), np.array(y[math.ceil(len(X)*0.8):math.ceil(len(X)*0.9)])\n",
        "X_test, y_test = np.array(X[math.ceil(len(X)*0.9):]), np.array(y[math.ceil(len(X)*0.9):])\n",
        "\n",
        "model = Sequential()\n",
        "model.add(LSTM(units=50, return_sequences=True, input_shape=(X_train.shape[1], dataset.shape[1])))\n",
        "model.add(Dropout(0.2))\n",
        "model.add(LSTM(units=50, return_sequences=True))\n",
        "model.add(Dropout(0.2))\n",
        "model.add(LSTM(units=50, return_sequences=True))\n",
        "model.add(Dropout(0.2))\n",
        "model.add(LSTM(units=50))\n",
        "model.add(Dropout(0.2))\n",
        "model.add(Dense(units=1))\n",
        "model.compile(optimizer='adam', loss='mean_squared_error')\n",
        "model.fit(X_train, y_train, epochs=25, batch_size=32, shuffle=True, validation_data=(X_val, y_val))\n",
        "model.save(\"./MODEL/RNN_BBANDS_ROC.h5\")\n",
        "\n",
        "model_rnn = load_model('./MODEL/RNN_BBANDS_ROC.h5')\n",
        "\n",
        "predictions = model_rnn.predict(X_test)\n",
        "predictions = scaler.inverse_transform(np.tile(predictions, (1, dataset.shape[1])))[:, 0]\n",
        "\n",
        "prediction_df = original_df.iloc[-len(predictions):]\n",
        "prediction_df['predictions'] = predictions\n",
        "\n",
        "plt.figure(figsize = (20, 10))\n",
        "plt.plot(original_df['close'][-300:])\n",
        "plt.plot(prediction_df['predictions'])\n",
        "plt.legend(['True price', 'Predict price'], loc = 'lower right')\n",
        "plt.show()"
      ]
    },
    {
      "cell_type": "markdown",
      "id": "cdccadf5-2610-4766-b885-e634eea192b5",
      "metadata": {},
      "source": [
        "#### + BBANDS + RSI"
      ]
    },
    {
      "cell_type": "code",
      "execution_count": null,
      "id": "0d6cb687-6cde-439f-b93f-ffa8f9ba07b9",
      "metadata": {},
      "outputs": [],
      "source": [
        "original_df = pd.read_csv(\"./DATA/MSFT.csv\")\n",
        "dataset = original_df\n",
        "dataset = dataset[['close', 'Real Lower Band', 'Real Middle Band', 'Real Upper Band', 'RSI']].values\n",
        "\n",
        "scaler = MinMaxScaler(feature_range=(0,1))\n",
        "dataset = scaler.fit_transform(dataset)\n",
        "\n",
        "X, y = [], []\n",
        "for i in range(60, len(dataset)):\n",
        "    X.append(dataset[i-60:i][:])\n",
        "    y.append(dataset[i][0])\n",
        "\n",
        "X_train, y_train = np.array(X[:math.ceil(len(X)*0.8)]), np.array(y[:math.ceil(len(X)*0.8)])\n",
        "X_val, y_val = np.array(X[math.ceil(len(X)*0.8):math.ceil(len(X)*0.9)]), np.array(y[math.ceil(len(X)*0.8):math.ceil(len(X)*0.9)])\n",
        "X_test, y_test = np.array(X[math.ceil(len(X)*0.9):]), np.array(y[math.ceil(len(X)*0.9):])\n",
        "\n",
        "model = Sequential()\n",
        "model.add(LSTM(units=50, return_sequences=True, input_shape=(X_train.shape[1], dataset.shape[1])))\n",
        "model.add(Dropout(0.2))\n",
        "model.add(LSTM(units=50, return_sequences=True))\n",
        "model.add(Dropout(0.2))\n",
        "model.add(LSTM(units=50, return_sequences=True))\n",
        "model.add(Dropout(0.2))\n",
        "model.add(LSTM(units=50))\n",
        "model.add(Dropout(0.2))\n",
        "model.add(Dense(units=1))\n",
        "model.compile(optimizer='adam', loss='mean_squared_error')\n",
        "model.fit(X_train, y_train, epochs=25, batch_size=32, shuffle=True, validation_data=(X_val, y_val))\n",
        "model.save(\"./MODEL/RNN_BBANDS_RSI.h5\")\n",
        "\n",
        "model_rnn = load_model('./MODEL/RNN_BBANDS_RSI.h5')\n",
        "\n",
        "predictions = model_rnn.predict(X_test)\n",
        "predictions = scaler.inverse_transform(np.tile(predictions, (1, dataset.shape[1])))[:, 0]\n",
        "\n",
        "prediction_df = original_df.iloc[-len(predictions):]\n",
        "prediction_df['predictions'] = predictions\n",
        "\n",
        "plt.figure(figsize = (20, 10))\n",
        "plt.plot(original_df['close'][-300:])\n",
        "plt.plot(prediction_df['predictions'])\n",
        "plt.legend(['True price', 'Predict price'], loc = 'lower right')\n",
        "plt.show()"
      ]
    },
    {
      "cell_type": "markdown",
      "id": "cb17b0bf-7032-42c6-bd43-2563b5c15b99",
      "metadata": {},
      "source": [
        "#### + BBANDS + SMA"
      ]
    },
    {
      "cell_type": "code",
      "execution_count": null,
      "id": "a426e261-342c-4895-a25d-275e51008086",
      "metadata": {},
      "outputs": [],
      "source": [
        "original_df = pd.read_csv(\"./DATA/MSFT.csv\")\n",
        "dataset = original_df\n",
        "dataset = dataset[['close', 'Real Lower Band', 'Real Middle Band', 'Real Upper Band', 'SMA']].values\n",
        "\n",
        "scaler = MinMaxScaler(feature_range=(0,1))\n",
        "dataset = scaler.fit_transform(dataset)\n",
        "\n",
        "X, y = [], []\n",
        "for i in range(60, len(dataset)):\n",
        "    X.append(dataset[i-60:i][:])\n",
        "    y.append(dataset[i][0])\n",
        "\n",
        "X_train, y_train = np.array(X[:math.ceil(len(X)*0.8)]), np.array(y[:math.ceil(len(X)*0.8)])\n",
        "X_val, y_val = np.array(X[math.ceil(len(X)*0.8):math.ceil(len(X)*0.9)]), np.array(y[math.ceil(len(X)*0.8):math.ceil(len(X)*0.9)])\n",
        "X_test, y_test = np.array(X[math.ceil(len(X)*0.9):]), np.array(y[math.ceil(len(X)*0.9):])\n",
        "\n",
        "model = Sequential()\n",
        "model.add(LSTM(units=50, return_sequences=True, input_shape=(X_train.shape[1], dataset.shape[1])))\n",
        "model.add(Dropout(0.2))\n",
        "model.add(LSTM(units=50, return_sequences=True))\n",
        "model.add(Dropout(0.2))\n",
        "model.add(LSTM(units=50, return_sequences=True))\n",
        "model.add(Dropout(0.2))\n",
        "model.add(LSTM(units=50))\n",
        "model.add(Dropout(0.2))\n",
        "model.add(Dense(units=1))\n",
        "model.compile(optimizer='adam', loss='mean_squared_error')\n",
        "model.fit(X_train, y_train, epochs=25, batch_size=32, shuffle=True, validation_data=(X_val, y_val))\n",
        "model.save(\"./MODEL/RNN_BBANDS_SMA.h5\")\n",
        "\n",
        "model_rnn = load_model('./MODEL/RNN_BBANDS_SMA.h5')\n",
        "\n",
        "predictions = model_rnn.predict(X_test)\n",
        "predictions = scaler.inverse_transform(np.tile(predictions, (1, dataset.shape[1])))[:, 0]\n",
        "\n",
        "prediction_df = original_df.iloc[-len(predictions):]\n",
        "prediction_df['predictions'] = predictions\n",
        "\n",
        "plt.figure(figsize = (20, 10))\n",
        "plt.plot(original_df['close'][-300:])\n",
        "plt.plot(prediction_df['predictions'])\n",
        "plt.legend(['True price', 'Predict price'], loc = 'lower right')\n",
        "plt.show()"
      ]
    },
    {
      "cell_type": "markdown",
      "id": "578c9c87-68d7-4920-bc7b-a4aed59732e3",
      "metadata": {},
      "source": [
        "#### + ROC + RSI"
      ]
    },
    {
      "cell_type": "code",
      "execution_count": null,
      "id": "ceb75420-a4e6-4cbf-9f33-0e2fd12f9d8d",
      "metadata": {},
      "outputs": [],
      "source": [
        "original_df = pd.read_csv(\"./DATA/MSFT.csv\")\n",
        "dataset = original_df\n",
        "dataset = dataset[['close', 'ROC', 'RSI']].values\n",
        "\n",
        "scaler = MinMaxScaler(feature_range=(0,1))\n",
        "dataset = scaler.fit_transform(dataset)\n",
        "\n",
        "X, y = [], []\n",
        "for i in range(60, len(dataset)):\n",
        "    X.append(dataset[i-60:i][:])\n",
        "    y.append(dataset[i][0])\n",
        "\n",
        "X_train, y_train = np.array(X[:math.ceil(len(X)*0.8)]), np.array(y[:math.ceil(len(X)*0.8)])\n",
        "X_val, y_val = np.array(X[math.ceil(len(X)*0.8):math.ceil(len(X)*0.9)]), np.array(y[math.ceil(len(X)*0.8):math.ceil(len(X)*0.9)])\n",
        "X_test, y_test = np.array(X[math.ceil(len(X)*0.9):]), np.array(y[math.ceil(len(X)*0.9):])\n",
        "\n",
        "model = Sequential()\n",
        "model.add(LSTM(units=50, return_sequences=True, input_shape=(X_train.shape[1], dataset.shape[1])))\n",
        "model.add(Dropout(0.2))\n",
        "model.add(LSTM(units=50, return_sequences=True))\n",
        "model.add(Dropout(0.2))\n",
        "model.add(LSTM(units=50, return_sequences=True))\n",
        "model.add(Dropout(0.2))\n",
        "model.add(LSTM(units=50))\n",
        "model.add(Dropout(0.2))\n",
        "model.add(Dense(units=1))\n",
        "model.compile(optimizer='adam', loss='mean_squared_error')\n",
        "model.fit(X_train, y_train, epochs=25, batch_size=32, shuffle=True, validation_data=(X_val, y_val))\n",
        "model.save(\"./MODEL/RNN_ROC_RSI.h5\")\n",
        "\n",
        "model_rnn = load_model('./MODEL/RNN_ROC_RSI.h5')\n",
        "\n",
        "predictions = model_rnn.predict(X_test)\n",
        "predictions = scaler.inverse_transform(np.tile(predictions, (1, dataset.shape[1])))[:, 0]\n",
        "\n",
        "prediction_df = original_df.iloc[-len(predictions):]\n",
        "prediction_df['predictions'] = predictions\n",
        "\n",
        "plt.figure(figsize = (20, 10))\n",
        "plt.plot(original_df['close'][-300:])\n",
        "plt.plot(prediction_df['predictions'])\n",
        "plt.legend(['True price', 'Predict price'], loc = 'lower right')\n",
        "plt.show()"
      ]
    },
    {
      "cell_type": "markdown",
      "id": "1c91a0f0-3009-4159-86db-f2d9d98ac211",
      "metadata": {},
      "source": [
        "#### + ROC + SMA"
      ]
    },
    {
      "cell_type": "code",
      "execution_count": null,
      "id": "74fb8898-0f28-4192-ab13-99a213193cb4",
      "metadata": {},
      "outputs": [],
      "source": [
        "original_df = pd.read_csv(\"./DATA/MSFT.csv\")\n",
        "dataset = original_df\n",
        "dataset = dataset[['close', 'ROC', 'SMA']].values\n",
        "\n",
        "scaler = MinMaxScaler(feature_range=(0,1))\n",
        "dataset = scaler.fit_transform(dataset)\n",
        "\n",
        "X, y = [], []\n",
        "for i in range(60, len(dataset)):\n",
        "    X.append(dataset[i-60:i][:])\n",
        "    y.append(dataset[i][0])\n",
        "\n",
        "X_train, y_train = np.array(X[:math.ceil(len(X)*0.8)]), np.array(y[:math.ceil(len(X)*0.8)])\n",
        "X_val, y_val = np.array(X[math.ceil(len(X)*0.8):math.ceil(len(X)*0.9)]), np.array(y[math.ceil(len(X)*0.8):math.ceil(len(X)*0.9)])\n",
        "X_test, y_test = np.array(X[math.ceil(len(X)*0.9):]), np.array(y[math.ceil(len(X)*0.9):])\n",
        "\n",
        "model = Sequential()\n",
        "model.add(LSTM(units=50, return_sequences=True, input_shape=(X_train.shape[1], dataset.shape[1])))\n",
        "model.add(Dropout(0.2))\n",
        "model.add(LSTM(units=50, return_sequences=True))\n",
        "model.add(Dropout(0.2))\n",
        "model.add(LSTM(units=50, return_sequences=True))\n",
        "model.add(Dropout(0.2))\n",
        "model.add(LSTM(units=50))\n",
        "model.add(Dropout(0.2))\n",
        "model.add(Dense(units=1))\n",
        "model.compile(optimizer='adam', loss='mean_squared_error')\n",
        "model.fit(X_train, y_train, epochs=25, batch_size=32, shuffle=True, validation_data=(X_val, y_val))\n",
        "model.save(\"./MODEL/RNN_ROC_SMA.h5\")\n",
        "\n",
        "model_rnn = load_model('./MODEL/RNN_ROC_SMA.h5')\n",
        "\n",
        "predictions = model_rnn.predict(X_test)\n",
        "predictions = scaler.inverse_transform(np.tile(predictions, (1, dataset.shape[1])))[:, 0]\n",
        "\n",
        "prediction_df = original_df.iloc[-len(predictions):]\n",
        "prediction_df['predictions'] = predictions\n",
        "\n",
        "plt.figure(figsize = (20, 10))\n",
        "plt.plot(original_df['close'][-300:])\n",
        "plt.plot(prediction_df['predictions'])\n",
        "plt.legend(['True price', 'Predict price'], loc = 'lower right')\n",
        "plt.show()"
      ]
    },
    {
      "cell_type": "markdown",
      "id": "dd462314-154c-41eb-819f-b102fc66d39a",
      "metadata": {},
      "source": [
        "#### + RSI + SMA"
      ]
    },
    {
      "cell_type": "code",
      "execution_count": null,
      "id": "81a24d8d-8493-4de4-8400-3c112c92d306",
      "metadata": {},
      "outputs": [],
      "source": [
        "original_df = pd.read_csv(\"./DATA/MSFT.csv\")\n",
        "dataset = original_df\n",
        "dataset = dataset[['close', 'RSI', 'SMA']].values\n",
        "\n",
        "scaler = MinMaxScaler(feature_range=(0,1))\n",
        "dataset = scaler.fit_transform(dataset)\n",
        "\n",
        "X, y = [], []\n",
        "for i in range(60, len(dataset)):\n",
        "    X.append(dataset[i-60:i][:])\n",
        "    y.append(dataset[i][0])\n",
        "\n",
        "X_train, y_train = np.array(X[:math.ceil(len(X)*0.8)]), np.array(y[:math.ceil(len(X)*0.8)])\n",
        "X_val, y_val = np.array(X[math.ceil(len(X)*0.8):math.ceil(len(X)*0.9)]), np.array(y[math.ceil(len(X)*0.8):math.ceil(len(X)*0.9)])\n",
        "X_test, y_test = np.array(X[math.ceil(len(X)*0.9):]), np.array(y[math.ceil(len(X)*0.9):])\n",
        "\n",
        "model = Sequential()\n",
        "model.add(LSTM(units=50, return_sequences=True, input_shape=(X_train.shape[1], dataset.shape[1])))\n",
        "model.add(Dropout(0.2))\n",
        "model.add(LSTM(units=50, return_sequences=True))\n",
        "model.add(Dropout(0.2))\n",
        "model.add(LSTM(units=50, return_sequences=True))\n",
        "model.add(Dropout(0.2))\n",
        "model.add(LSTM(units=50))\n",
        "model.add(Dropout(0.2))\n",
        "model.add(Dense(units=1))\n",
        "model.compile(optimizer='adam', loss='mean_squared_error')\n",
        "model.fit(X_train, y_train, epochs=25, batch_size=32, shuffle=True, validation_data=(X_val, y_val))\n",
        "model.save(\"./MODEL/RNN_RSI_SMA.h5\")\n",
        "\n",
        "model_rnn = load_model('./MODEL/RNN_RSI_SMA.h5')\n",
        "\n",
        "predictions = model_rnn.predict(X_test)\n",
        "predictions = scaler.inverse_transform(np.tile(predictions, (1, dataset.shape[1])))[:, 0]\n",
        "\n",
        "prediction_df = original_df.iloc[-len(predictions):]\n",
        "prediction_df['predictions'] = predictions\n",
        "\n",
        "plt.figure(figsize = (20, 10))\n",
        "plt.plot(original_df['close'][-300:])\n",
        "plt.plot(prediction_df['predictions'])\n",
        "plt.legend(['True price', 'Predict price'], loc = 'lower right')\n",
        "plt.show()"
      ]
    },
    {
      "cell_type": "markdown",
      "id": "085bf0ae-7ded-4dcb-9540-b966d49d208b",
      "metadata": {},
      "source": [
        "#### + BBANDS + ROC + RSI"
      ]
    },
    {
      "cell_type": "code",
      "execution_count": null,
      "id": "736131d5-fa9b-4e0c-9e2b-b8834b1fc61f",
      "metadata": {},
      "outputs": [],
      "source": [
        "original_df = pd.read_csv(\"./DATA/MSFT.csv\")\n",
        "dataset = original_df\n",
        "dataset = dataset[['close', 'Real Lower Band', 'Real Middle Band', 'Real Upper Band', 'ROC', 'RSI']].values\n",
        "\n",
        "scaler = MinMaxScaler(feature_range=(0,1))\n",
        "dataset = scaler.fit_transform(dataset)\n",
        "\n",
        "X, y = [], []\n",
        "for i in range(60, len(dataset)):\n",
        "    X.append(dataset[i-60:i][:])\n",
        "    y.append(dataset[i][0])\n",
        "\n",
        "X_train, y_train = np.array(X[:math.ceil(len(X)*0.8)]), np.array(y[:math.ceil(len(X)*0.8)])\n",
        "X_val, y_val = np.array(X[math.ceil(len(X)*0.8):math.ceil(len(X)*0.9)]), np.array(y[math.ceil(len(X)*0.8):math.ceil(len(X)*0.9)])\n",
        "X_test, y_test = np.array(X[math.ceil(len(X)*0.9):]), np.array(y[math.ceil(len(X)*0.9):])\n",
        "\n",
        "model = Sequential()\n",
        "model.add(LSTM(units=50, return_sequences=True, input_shape=(X_train.shape[1], dataset.shape[1])))\n",
        "model.add(Dropout(0.2))\n",
        "model.add(LSTM(units=50, return_sequences=True))\n",
        "model.add(Dropout(0.2))\n",
        "model.add(LSTM(units=50, return_sequences=True))\n",
        "model.add(Dropout(0.2))\n",
        "model.add(LSTM(units=50))\n",
        "model.add(Dropout(0.2))\n",
        "model.add(Dense(units=1))\n",
        "model.compile(optimizer='adam', loss='mean_squared_error')\n",
        "model.fit(X_train, y_train, epochs=25, batch_size=32, shuffle=True, validation_data=(X_val, y_val))\n",
        "model.save(\"./MODEL/RNN_BBANDS_ROC_RSI.h5\")\n",
        "\n",
        "model_rnn = load_model('./MODEL/RNN_BBANDS_ROC_RSI.h5')\n",
        "\n",
        "predictions = model_rnn.predict(X_test)\n",
        "predictions = scaler.inverse_transform(np.tile(predictions, (1, dataset.shape[1])))[:, 0]\n",
        "\n",
        "prediction_df = original_df.iloc[-len(predictions):]\n",
        "prediction_df['predictions'] = predictions\n",
        "\n",
        "plt.figure(figsize = (20, 10))\n",
        "plt.plot(original_df['close'][-300:])\n",
        "plt.plot(prediction_df['predictions'])\n",
        "plt.legend(['True price', 'Predict price'], loc = 'lower right')\n",
        "plt.show()"
      ]
    },
    {
      "cell_type": "markdown",
      "id": "e94d5829-10e4-4207-80cf-dee1c56f0dec",
      "metadata": {},
      "source": [
        "#### + BBANDS + ROC + SMA"
      ]
    },
    {
      "cell_type": "code",
      "execution_count": null,
      "id": "bad5cda8-c12e-4ca1-aed5-2b843525828d",
      "metadata": {},
      "outputs": [],
      "source": [
        "original_df = pd.read_csv(\"./DATA/MSFT.csv\")\n",
        "dataset = original_df\n",
        "dataset = dataset[['close', 'Real Lower Band', 'Real Middle Band', 'Real Upper Band', 'ROC', 'SMA']].values\n",
        "\n",
        "scaler = MinMaxScaler(feature_range=(0,1))\n",
        "dataset = scaler.fit_transform(dataset)\n",
        "\n",
        "X, y = [], []\n",
        "for i in range(60, len(dataset)):\n",
        "    X.append(dataset[i-60:i][:])\n",
        "    y.append(dataset[i][0])\n",
        "\n",
        "X_train, y_train = np.array(X[:math.ceil(len(X)*0.8)]), np.array(y[:math.ceil(len(X)*0.8)])\n",
        "X_val, y_val = np.array(X[math.ceil(len(X)*0.8):math.ceil(len(X)*0.9)]), np.array(y[math.ceil(len(X)*0.8):math.ceil(len(X)*0.9)])\n",
        "X_test, y_test = np.array(X[math.ceil(len(X)*0.9):]), np.array(y[math.ceil(len(X)*0.9):])\n",
        "\n",
        "model = Sequential()\n",
        "model.add(LSTM(units=50, return_sequences=True, input_shape=(X_train.shape[1], dataset.shape[1])))\n",
        "model.add(Dropout(0.2))\n",
        "model.add(LSTM(units=50, return_sequences=True))\n",
        "model.add(Dropout(0.2))\n",
        "model.add(LSTM(units=50, return_sequences=True))\n",
        "model.add(Dropout(0.2))\n",
        "model.add(LSTM(units=50))\n",
        "model.add(Dropout(0.2))\n",
        "model.add(Dense(units=1))\n",
        "model.compile(optimizer='adam', loss='mean_squared_error')\n",
        "model.fit(X_train, y_train, epochs=25, batch_size=32, shuffle=True, validation_data=(X_val, y_val))\n",
        "model.save(\"./MODEL/RNN_BBANDS_ROC_SMA.h5\")\n",
        "\n",
        "model_rnn = load_model('./MODEL/RNN_BBANDS_ROC_SMA.h5')\n",
        "\n",
        "predictions = model_rnn.predict(X_test)\n",
        "predictions = scaler.inverse_transform(np.tile(predictions, (1, dataset.shape[1])))[:, 0]\n",
        "\n",
        "prediction_df = original_df.iloc[-len(predictions):]\n",
        "prediction_df['predictions'] = predictions\n",
        "\n",
        "plt.figure(figsize = (20, 10))\n",
        "plt.plot(original_df['close'][-300:])\n",
        "plt.plot(prediction_df['predictions'])\n",
        "plt.legend(['True price', 'Predict price'], loc = 'lower right')\n",
        "plt.show()"
      ]
    },
    {
      "cell_type": "markdown",
      "id": "93688002-d123-4f2f-9b0a-5a6bc78bc5bb",
      "metadata": {},
      "source": [
        "#### + BBANDS + RSI + SMA"
      ]
    },
    {
      "cell_type": "code",
      "execution_count": null,
      "id": "d62bff31-f503-49d2-a4cf-7f94724adacb",
      "metadata": {},
      "outputs": [],
      "source": [
        "original_df = pd.read_csv(\"./DATA/MSFT.csv\")\n",
        "dataset = original_df\n",
        "dataset = dataset[['close', 'Real Lower Band', 'Real Middle Band', 'Real Upper Band', 'RSI', 'SMA']].values\n",
        "\n",
        "scaler = MinMaxScaler(feature_range=(0,1))\n",
        "dataset = scaler.fit_transform(dataset)\n",
        "\n",
        "X, y = [], []\n",
        "for i in range(60, len(dataset)):\n",
        "    X.append(dataset[i-60:i][:])\n",
        "    y.append(dataset[i][0])\n",
        "\n",
        "X_train, y_train = np.array(X[:math.ceil(len(X)*0.8)]), np.array(y[:math.ceil(len(X)*0.8)])\n",
        "X_val, y_val = np.array(X[math.ceil(len(X)*0.8):math.ceil(len(X)*0.9)]), np.array(y[math.ceil(len(X)*0.8):math.ceil(len(X)*0.9)])\n",
        "X_test, y_test = np.array(X[math.ceil(len(X)*0.9):]), np.array(y[math.ceil(len(X)*0.9):])\n",
        "\n",
        "model = Sequential()\n",
        "model.add(LSTM(units=50, return_sequences=True, input_shape=(X_train.shape[1], dataset.shape[1])))\n",
        "model.add(Dropout(0.2))\n",
        "model.add(LSTM(units=50, return_sequences=True))\n",
        "model.add(Dropout(0.2))\n",
        "model.add(LSTM(units=50, return_sequences=True))\n",
        "model.add(Dropout(0.2))\n",
        "model.add(LSTM(units=50))\n",
        "model.add(Dropout(0.2))\n",
        "model.add(Dense(units=1))\n",
        "model.compile(optimizer='adam', loss='mean_squared_error')\n",
        "model.fit(X_train, y_train, epochs=25, batch_size=32, shuffle=True, validation_data=(X_val, y_val))\n",
        "model.save(\"./MODEL/RNN_BBANDS_RSI_SMA.h5\")\n",
        "\n",
        "model_rnn = load_model('./MODEL/RNN_BBANDS_RSI_SMA.h5')\n",
        "\n",
        "predictions = model_rnn.predict(X_test)\n",
        "predictions = scaler.inverse_transform(np.tile(predictions, (1, dataset.shape[1])))[:, 0]\n",
        "\n",
        "prediction_df = original_df.iloc[-len(predictions):]\n",
        "prediction_df['predictions'] = predictions\n",
        "\n",
        "plt.figure(figsize = (20, 10))\n",
        "plt.plot(original_df['close'][-300:])\n",
        "plt.plot(prediction_df['predictions'])\n",
        "plt.legend(['True price', 'Predict price'], loc = 'lower right')\n",
        "plt.show()"
      ]
    },
    {
      "cell_type": "markdown",
      "id": "34e29c1d-9d13-4b2c-8d0a-8c2ce2a062e9",
      "metadata": {},
      "source": [
        "#### + ROC + RSI + SMA"
      ]
    },
    {
      "cell_type": "code",
      "execution_count": null,
      "id": "a64dd5d8-56b1-45a2-ae8e-8c9ef1a92228",
      "metadata": {},
      "outputs": [],
      "source": [
        "original_df = pd.read_csv(\"./DATA/MSFT.csv\")\n",
        "dataset = original_df\n",
        "dataset = dataset[['close', 'ROC', 'RSI', 'SMA']].values\n",
        "\n",
        "scaler = MinMaxScaler(feature_range=(0,1))\n",
        "dataset = scaler.fit_transform(dataset)\n",
        "\n",
        "X, y = [], []\n",
        "for i in range(60, len(dataset)):\n",
        "    X.append(dataset[i-60:i][:])\n",
        "    y.append(dataset[i][0])\n",
        "\n",
        "X_train, y_train = np.array(X[:math.ceil(len(X)*0.8)]), np.array(y[:math.ceil(len(X)*0.8)])\n",
        "X_val, y_val = np.array(X[math.ceil(len(X)*0.8):math.ceil(len(X)*0.9)]), np.array(y[math.ceil(len(X)*0.8):math.ceil(len(X)*0.9)])\n",
        "X_test, y_test = np.array(X[math.ceil(len(X)*0.9):]), np.array(y[math.ceil(len(X)*0.9):])\n",
        "\n",
        "model = Sequential()\n",
        "model.add(LSTM(units=50, return_sequences=True, input_shape=(X_train.shape[1], dataset.shape[1])))\n",
        "model.add(Dropout(0.2))\n",
        "model.add(LSTM(units=50, return_sequences=True))\n",
        "model.add(Dropout(0.2))\n",
        "model.add(LSTM(units=50, return_sequences=True))\n",
        "model.add(Dropout(0.2))\n",
        "model.add(LSTM(units=50))\n",
        "model.add(Dropout(0.2))\n",
        "model.add(Dense(units=1))\n",
        "model.compile(optimizer='adam', loss='mean_squared_error')\n",
        "model.fit(X_train, y_train, epochs=25, batch_size=32, shuffle=True, validation_data=(X_val, y_val))\n",
        "model.save(\"./MODEL/RNN_ROC_RSI_SMA.h5\")\n",
        "\n",
        "model_rnn = load_model('./MODEL/RNN_ROC_RSI_SMA.h5')\n",
        "\n",
        "predictions = model_rnn.predict(X_test)\n",
        "predictions = scaler.inverse_transform(np.tile(predictions, (1, dataset.shape[1])))[:, 0]\n",
        "\n",
        "prediction_df = original_df.iloc[-len(predictions):]\n",
        "prediction_df['predictions'] = predictions\n",
        "\n",
        "plt.figure(figsize = (20, 10))\n",
        "plt.plot(original_df['close'][-300:])\n",
        "plt.plot(prediction_df['predictions'])\n",
        "plt.legend(['True price', 'Predict price'], loc = 'lower right')\n",
        "plt.show()"
      ]
    },
    {
      "cell_type": "markdown",
      "id": "614b0cd2-2e42-4b6a-821a-242669a5d69a",
      "metadata": {},
      "source": [
        "#### + BBANDS + ROC + RSI + SMA"
      ]
    },
    {
      "cell_type": "code",
      "execution_count": null,
      "id": "9a134d89-325f-46e2-81d0-5be6e83ffe72",
      "metadata": {},
      "outputs": [],
      "source": [
        "original_df = pd.read_csv(\"./DATA/MSFT.csv\")\n",
        "dataset = original_df\n",
        "dataset = dataset[['close', 'Real Lower Band', 'Real Middle Band', 'Real Upper Band', 'ROC', 'RSI', 'SMA']].values\n",
        "\n",
        "scaler = MinMaxScaler(feature_range=(0,1))\n",
        "dataset = scaler.fit_transform(dataset)\n",
        "\n",
        "X, y = [], []\n",
        "for i in range(60, len(dataset)):\n",
        "    X.append(dataset[i-60:i][:])\n",
        "    y.append(dataset[i][0])\n",
        "\n",
        "X_train, y_train = np.array(X[:math.ceil(len(X)*0.8)]), np.array(y[:math.ceil(len(X)*0.8)])\n",
        "X_val, y_val = np.array(X[math.ceil(len(X)*0.8):math.ceil(len(X)*0.9)]), np.array(y[math.ceil(len(X)*0.8):math.ceil(len(X)*0.9)])\n",
        "X_test, y_test = np.array(X[math.ceil(len(X)*0.9):]), np.array(y[math.ceil(len(X)*0.9):])\n",
        "\n",
        "model = Sequential()\n",
        "model.add(LSTM(units=50, return_sequences=True, input_shape=(X_train.shape[1], dataset.shape[1])))\n",
        "model.add(Dropout(0.2))\n",
        "model.add(LSTM(units=50, return_sequences=True))\n",
        "model.add(Dropout(0.2))\n",
        "model.add(LSTM(units=50, return_sequences=True))\n",
        "model.add(Dropout(0.2))\n",
        "model.add(LSTM(units=50))\n",
        "model.add(Dropout(0.2))\n",
        "model.add(Dense(units=1))\n",
        "model.compile(optimizer='adam', loss='mean_squared_error')\n",
        "model.fit(X_train, y_train, epochs=25, batch_size=32, shuffle=True, validation_data=(X_val, y_val))\n",
        "model.save(\"./MODEL/RNN_BBANDS_ROC_RSI_SMA.h5\")\n",
        "\n",
        "model_rnn = load_model('./MODEL/RNN_BBANDS_ROC_RSI_SMA.h5')\n",
        "\n",
        "predictions = model_rnn.predict(X_test)\n",
        "predictions = scaler.inverse_transform(np.tile(predictions, (1, dataset.shape[1])))[:, 0]\n",
        "\n",
        "prediction_df = original_df.iloc[-len(predictions):]\n",
        "prediction_df['predictions'] = predictions\n",
        "\n",
        "plt.figure(figsize = (20, 10))\n",
        "plt.plot(original_df['close'][-300:])\n",
        "plt.plot(prediction_df['predictions'])\n",
        "plt.legend(['True price', 'Predict price'], loc = 'lower right')\n",
        "plt.show()"
      ]
    },
    {
      "cell_type": "markdown",
      "id": "26eff89d-c709-4520-8c2c-69a60027ced1",
      "metadata": {},
      "source": [
        "## 3. XGBOOST"
      ]
    },
    {
      "cell_type": "markdown",
      "id": "0f02ce5a-2380-4f4a-950a-858783a3f75f",
      "metadata": {},
      "source": [
        "### a. Prepare Input"
      ]
    },
    {
      "cell_type": "code",
      "execution_count": null,
      "id": "eb9ffc2c-0fbc-4760-98b5-464b7ac967e6",
      "metadata": {},
      "outputs": [],
      "source": [
        "original_df = pd.read_csv(\"./DATA/MSFT.csv\")\n",
        "dataset = original_df\n",
        "dataset = dataset[['close', 'volume']]\n",
        "dataset"
      ]
    },
    {
      "cell_type": "code",
      "execution_count": null,
      "id": "2e63e023-18f5-4f04-a4c2-3fbbf9c55849",
      "metadata": {},
      "outputs": [],
      "source": [
        "for i in range (1, 3):\n",
        "    dataset[\"close_date_\" + str(i)] = dataset.close.shift(i)\n",
        "    dataset[\"volume_date_\" + str(i)] = dataset.volume.shift(i)\n",
        "dataset"
      ]
    },
    {
      "cell_type": "code",
      "execution_count": null,
      "id": "bfc98244-bfa0-4598-bb7d-3175d932e3cf",
      "metadata": {},
      "outputs": [],
      "source": [
        "dataset.dropna(inplace=True)\n",
        "dataset"
      ]
    },
    {
      "cell_type": "code",
      "execution_count": null,
      "id": "e8e2ed6a-a459-4703-a8e9-bc83b7bddccc",
      "metadata": {},
      "outputs": [],
      "source": [
        "X = dataset.drop(['close', 'volume'], axis=1)\n",
        "y = pd.DataFrame(dataset['close'])\n",
        "print(X.shape)\n",
        "print(y.shape)\n",
        "X"
      ]
    },
    {
      "cell_type": "code",
      "execution_count": null,
      "id": "d5032bf8-4379-4248-9da5-d64e51d92909",
      "metadata": {},
      "outputs": [],
      "source": [
        "X_train, y_train = X[:math.ceil(len(X)*0.9)], y[:math.ceil(len(X)*0.9)]\n",
        "X_test, y_test = X[math.ceil(len(X)*0.9):], y[math.ceil(len(X)*0.9):]\n",
        "print(\"Size train: \", X_train.shape)\n",
        "print(\"Size test: \", X_test.shape)"
      ]
    },
    {
      "cell_type": "markdown",
      "id": "8c25a9fc-9c5b-4311-a5c7-39f89eddce5a",
      "metadata": {},
      "source": [
        "### b. Train Model"
      ]
    },
    {
      "cell_type": "code",
      "execution_count": null,
      "id": "f7e4dcf2-5e39-41e5-818c-33311af18af8",
      "metadata": {},
      "outputs": [],
      "source": [
        "xgb = xgboost.XGBRegressor(n_estimators=100, \n",
        "                           max_depth=8, \n",
        "                           learning_rate=0.1,\n",
        "                           min_child_weight=5,\n",
        "                           subsample=0.1, \n",
        "                           colsample_bytree=1, \n",
        "                           colsample_bylevel=1,\n",
        "                           gamma=0.3,\n",
        "                           objective='reg:squarederror')\n",
        "model = xgb.fit(X_train, y_train)\n",
        "pickle.dump(model, open(\"./MODEL/XGBOOST.dat\", \"wb\"))"
      ]
    },
    {
      "cell_type": "markdown",
      "id": "220d36a6-c1f0-402f-804c-c26e16efbd3b",
      "metadata": {},
      "source": [
        "### c. Test Model"
      ]
    },
    {
      "cell_type": "code",
      "execution_count": null,
      "id": "d8f82932-f62b-4d12-84f7-caf919f41efb",
      "metadata": {},
      "outputs": [],
      "source": [
        "model_xgboost = pickle.load(open(\"./MODEL/XGBOOST.dat\", \"rb\"))"
      ]
    },
    {
      "cell_type": "code",
      "execution_count": null,
      "id": "c589e247-041d-4d75-85c8-a70dbca01c54",
      "metadata": {},
      "outputs": [],
      "source": [
        "predictions = model_xgboost.predict(X_test)\n",
        "predictions"
      ]
    },
    {
      "cell_type": "code",
      "execution_count": null,
      "id": "bad25bd4-e42b-4820-92c0-f6075dda1318",
      "metadata": {},
      "outputs": [],
      "source": [
        "prediction_df = dataset.iloc[-len(predictions):]\n",
        "prediction_df['predictions'] = predictions\n",
        "prediction_df"
      ]
    },
    {
      "cell_type": "code",
      "execution_count": null,
      "id": "3c378999-77d5-485c-822f-9270838ed521",
      "metadata": {},
      "outputs": [],
      "source": [
        "plt.figure(figsize = (20, 10))\n",
        "plt.plot(original_df['close'][-300:])\n",
        "plt.plot(prediction_df['predictions'])\n",
        "plt.legend(['True price', 'Predict price'], loc = 'lower right')\n",
        "plt.show()"
      ]
    },
    {
      "cell_type": "markdown",
      "id": "b15232d0-77e0-42ae-95a1-8b0572c303df",
      "metadata": {},
      "source": [
        "### d. Combine Indicators"
      ]
    },
    {
      "cell_type": "markdown",
      "id": "d3722335-7210-4191-83f3-7f64cc93650f",
      "metadata": {},
      "source": [
        "#### + ROC"
      ]
    },
    {
      "cell_type": "code",
      "execution_count": null,
      "id": "e1d38dcd-a633-4a01-a9b7-8d80602efbb9",
      "metadata": {},
      "outputs": [],
      "source": [
        "original_df = pd.read_csv(\"./DATA/MSFT.csv\")\n",
        "dataset = original_df\n",
        "dataset = dataset[['close', 'volume', 'ROC']]\n",
        "dataset"
      ]
    },
    {
      "cell_type": "code",
      "execution_count": null,
      "id": "75fd44b0-a5ff-4063-9233-190b218f2a14",
      "metadata": {},
      "outputs": [],
      "source": [
        "for i in range (1, 3):\n",
        "    dataset[\"close_date_\" + str(i)] = dataset.close.shift(i)\n",
        "    dataset[\"volume_date_\" + str(i)] = dataset.volume.shift(i)\n",
        "    dataset[\"ROC_date_\" + str(i)] = dataset.ROC.shift(i)\n",
        "dataset"
      ]
    },
    {
      "cell_type": "code",
      "execution_count": null,
      "id": "d60f91d1-2789-48c6-9daa-cb1dd1e1aa63",
      "metadata": {},
      "outputs": [],
      "source": [
        "dataset.dropna(inplace=True)\n",
        "dataset"
      ]
    },
    {
      "cell_type": "code",
      "execution_count": null,
      "id": "b5b25d26-13fa-4d26-b332-0f2257acf39a",
      "metadata": {},
      "outputs": [],
      "source": [
        "X = dataset.drop(['close', 'volume', 'ROC'], axis=1)\n",
        "y = pd.DataFrame(dataset['close'])\n",
        "print(X.shape)\n",
        "print(y.shape)\n",
        "X"
      ]
    },
    {
      "cell_type": "code",
      "execution_count": null,
      "id": "1487a176-8b43-4680-b159-616d6b07899c",
      "metadata": {},
      "outputs": [],
      "source": [
        "X_train, y_train = X[:math.ceil(len(X)*0.9)], y[:math.ceil(len(X)*0.9)]\n",
        "X_test, y_test = X[math.ceil(len(X)*0.9):], y[math.ceil(len(X)*0.9):]\n",
        "print(\"Size train: \", X_train.shape)\n",
        "print(\"Size test: \", X_test.shape)"
      ]
    },
    {
      "cell_type": "code",
      "execution_count": null,
      "id": "ef194e78-0024-45de-b1f1-465267626643",
      "metadata": {},
      "outputs": [],
      "source": [
        "xgb = xgboost.XGBRegressor(n_estimators=100, \n",
        "                           max_depth=8, \n",
        "                           learning_rate=0.1,\n",
        "                           min_child_weight=5,\n",
        "                           subsample=0.1, \n",
        "                           colsample_bytree=1, \n",
        "                           colsample_bylevel=1,\n",
        "                           gamma=0.3,\n",
        "                           objective='reg:squarederror')\n",
        "model = xgb.fit(X_train, y_train)\n",
        "pickle.dump(model, open(\"./MODEL/XGBOOST_ROC.dat\", \"wb\"))"
      ]
    },
    {
      "cell_type": "code",
      "execution_count": null,
      "id": "b8127e41-e5ac-4ca0-a7fc-9e5f3708a7ec",
      "metadata": {},
      "outputs": [],
      "source": [
        "model_xgboost = pickle.load(open(\"./MODEL/XGBOOST_ROC.dat\", \"rb\"))"
      ]
    },
    {
      "cell_type": "code",
      "execution_count": null,
      "id": "4ff1b067-bdc5-47f9-98f7-c1fa4eb0851c",
      "metadata": {},
      "outputs": [],
      "source": [
        "predictions = model_xgboost.predict(X_test)\n",
        "predictions"
      ]
    },
    {
      "cell_type": "code",
      "execution_count": null,
      "id": "3e143e6c-49c8-4cce-821c-63d6a6eceb13",
      "metadata": {},
      "outputs": [],
      "source": [
        "prediction_df = dataset.iloc[-len(predictions):]\n",
        "prediction_df['predictions'] = predictions\n",
        "prediction_df"
      ]
    },
    {
      "cell_type": "code",
      "execution_count": null,
      "id": "4455a1f0-8ae5-466f-961b-eaf84642b1df",
      "metadata": {},
      "outputs": [],
      "source": [
        "plt.figure(figsize = (20, 10))\n",
        "plt.plot(original_df['close'][-300:])\n",
        "plt.plot(prediction_df['predictions'])\n",
        "plt.legend(['True price', 'Predict price'], loc = 'lower right')\n",
        "plt.show()"
      ]
    },
    {
      "cell_type": "markdown",
      "id": "273a1283-9dbe-4b6d-a137-20d835d05d43",
      "metadata": {},
      "source": [
        "#### + SMA"
      ]
    },
    {
      "cell_type": "code",
      "execution_count": null,
      "id": "029ff304-5f69-4b21-9eef-94173ca2d420",
      "metadata": {},
      "outputs": [],
      "source": [
        "original_df = pd.read_csv(\"./DATA/MSFT.csv\")\n",
        "dataset = original_df\n",
        "dataset = dataset[['close', 'volume', 'SMA']]\n",
        "\n",
        "for i in range (1, 3):\n",
        "    dataset[\"close_date_\" + str(i)] = dataset.close.shift(i)\n",
        "    dataset[\"volume_date_\" + str(i)] = dataset.volume.shift(i)\n",
        "    dataset[\"SMA_date_\" + str(i)] = dataset.SMA.shift(i)\n",
        "\n",
        "dataset.dropna(inplace=True)\n",
        "\n",
        "X = dataset.drop(['close', 'volume', 'SMA'], axis=1)\n",
        "y = pd.DataFrame(dataset['close'])\n",
        "\n",
        "X_train, y_train = X[:math.ceil(len(X)*0.9)], y[:math.ceil(len(X)*0.9)]\n",
        "X_test, y_test = X[math.ceil(len(X)*0.9):], y[math.ceil(len(X)*0.9):]\n",
        "\n",
        "xgb = xgboost.XGBRegressor(n_estimators=100, \n",
        "                           max_depth=8, \n",
        "                           learning_rate=0.1,\n",
        "                           min_child_weight=5,\n",
        "                           subsample=0.1, \n",
        "                           colsample_bytree=1, \n",
        "                           colsample_bylevel=1,\n",
        "                           gamma=0.3,\n",
        "                           objective='reg:squarederror')\n",
        "model = xgb.fit(X_train, y_train)\n",
        "pickle.dump(model, open(\"./MODEL/XGBOOST_SMA.dat\", \"wb\"))\n",
        "\n",
        "model_xgboost = pickle.load(open(\"./MODEL/XGBOOST_SMA.dat\", \"rb\"))\n",
        "\n",
        "predictions = model_xgboost.predict(X_test)\n",
        "\n",
        "prediction_df = dataset.iloc[-len(predictions):]\n",
        "prediction_df['predictions'] = predictions\n",
        "\n",
        "plt.figure(figsize = (20, 10))\n",
        "plt.plot(original_df['close'][-300:])\n",
        "plt.plot(prediction_df['predictions'])\n",
        "plt.legend(['True price', 'Predict price'], loc = 'lower right')\n",
        "plt.show()"
      ]
    },
    {
      "cell_type": "markdown",
      "id": "0ab19663-b9db-4afb-9403-f28286586e93",
      "metadata": {},
      "source": [
        "#### + RSI"
      ]
    },
    {
      "cell_type": "code",
      "execution_count": null,
      "id": "1bb14892-58c6-415f-9cba-f22ada8a01a3",
      "metadata": {},
      "outputs": [],
      "source": [
        "original_df = pd.read_csv(\"./DATA/MSFT.csv\")\n",
        "dataset = original_df\n",
        "dataset = dataset[['close', 'volume', 'RSI']]\n",
        "\n",
        "for i in range (1, 3):\n",
        "    dataset[\"close_date_\" + str(i)] = dataset.close.shift(i)\n",
        "    dataset[\"volume_date_\" + str(i)] = dataset.volume.shift(i)\n",
        "    dataset[\"RSI_date_\" + str(i)] = dataset.RSI.shift(i)\n",
        "\n",
        "dataset.dropna(inplace=True)\n",
        "\n",
        "X = dataset.drop(['close', 'volume', 'RSI'], axis=1)\n",
        "y = pd.DataFrame(dataset['close'])\n",
        "\n",
        "X_train, y_train = X[:math.ceil(len(X)*0.9)], y[:math.ceil(len(X)*0.9)]\n",
        "X_test, y_test = X[math.ceil(len(X)*0.9):], y[math.ceil(len(X)*0.9):]\n",
        "\n",
        "xgb = xgboost.XGBRegressor(n_estimators=100, \n",
        "                           max_depth=8, \n",
        "                           learning_rate=0.1,\n",
        "                           min_child_weight=5,\n",
        "                           subsample=0.1, \n",
        "                           colsample_bytree=1, \n",
        "                           colsample_bylevel=1,\n",
        "                           gamma=0.3,\n",
        "                           objective='reg:squarederror')\n",
        "model = xgb.fit(X_train, y_train)\n",
        "pickle.dump(model, open(\"./MODEL/XGBOOST_RSI.dat\", \"wb\"))\n",
        "\n",
        "model_xgboost = pickle.load(open(\"./MODEL/XGBOOST_RSI.dat\", \"rb\"))\n",
        "\n",
        "predictions = model_xgboost.predict(X_test)\n",
        "\n",
        "prediction_df = dataset.iloc[-len(predictions):]\n",
        "prediction_df['predictions'] = predictions\n",
        "\n",
        "plt.figure(figsize = (20, 10))\n",
        "plt.plot(original_df['close'][-300:])\n",
        "plt.plot(prediction_df['predictions'])\n",
        "plt.legend(['True price', 'Predict price'], loc = 'lower right')\n",
        "plt.show()"
      ]
    },
    {
      "cell_type": "markdown",
      "id": "067cf250-ecb1-4169-826a-84b6f47859f4",
      "metadata": {},
      "source": [
        "#### + BBANDS"
      ]
    },
    {
      "cell_type": "code",
      "execution_count": null,
      "id": "74c732fb-0407-4e8f-9172-9c5470e441a3",
      "metadata": {},
      "outputs": [],
      "source": [
        "original_df = pd.read_csv(\"./DATA/MSFT.csv\")\n",
        "dataset = original_df\n",
        "dataset = dataset[['close', 'volume', 'Real Lower Band', 'Real Middle Band', 'Real Upper Band']]\n",
        "\n",
        "for i in range (1, 3):\n",
        "    dataset[\"close_date_\" + str(i)] = dataset.close.shift(i)\n",
        "    dataset[\"volume_date_\" + str(i)] = dataset.volume.shift(i)\n",
        "    dataset[\"RLB_date_\" + str(i)] = dataset['Real Lower Band'].shift(i)\n",
        "    dataset[\"RMB_date_\" + str(i)] = dataset['Real Middle Band'].shift(i)\n",
        "    dataset[\"RUB_date_\" + str(i)] = dataset['Real Upper Band'].shift(i)\n",
        "\n",
        "\n",
        "dataset.dropna(inplace=True)\n",
        "\n",
        "X = dataset.drop(['close', 'volume', 'Real Lower Band', 'Real Middle Band', 'Real Upper Band'], axis=1)\n",
        "y = pd.DataFrame(dataset['close'])\n",
        "\n",
        "X_train, y_train = X[:math.ceil(len(X)*0.9)], y[:math.ceil(len(X)*0.9)]\n",
        "X_test, y_test = X[math.ceil(len(X)*0.9):], y[math.ceil(len(X)*0.9):]\n",
        "\n",
        "xgb = xgboost.XGBRegressor(n_estimators=100, \n",
        "                           max_depth=8, \n",
        "                           learning_rate=0.1,\n",
        "                           min_child_weight=5,\n",
        "                           subsample=0.1, \n",
        "                           colsample_bytree=1, \n",
        "                           colsample_bylevel=1,\n",
        "                           gamma=0.3,\n",
        "                           objective='reg:squarederror')\n",
        "model = xgb.fit(X_train, y_train)\n",
        "pickle.dump(model, open(\"./MODEL/XGBOOST_BBANDS.dat\", \"wb\"))\n",
        "\n",
        "model_xgboost = pickle.load(open(\"./MODEL/XGBOOST_BBANDS.dat\", \"rb\"))\n",
        "\n",
        "predictions = model_xgboost.predict(X_test)\n",
        "\n",
        "prediction_df = dataset.iloc[-len(predictions):]\n",
        "prediction_df['predictions'] = predictions\n",
        "\n",
        "plt.figure(figsize = (20, 10))\n",
        "plt.plot(original_df['close'][-300:])\n",
        "plt.plot(prediction_df['predictions'])\n",
        "plt.legend(['True price', 'Predict price'], loc = 'lower right')\n",
        "plt.show()"
      ]
    },
    {
      "cell_type": "markdown",
      "id": "f21a2c9b-78e7-4f14-a1b2-4f0fba088be1",
      "metadata": {},
      "source": [
        "#### + BBANDS + ROC"
      ]
    },
    {
      "cell_type": "code",
      "execution_count": null,
      "id": "a31f5600-cc61-4ac5-b925-00a3d156fee5",
      "metadata": {},
      "outputs": [],
      "source": [
        "original_df = pd.read_csv(\"./DATA/MSFT.csv\")\n",
        "dataset = original_df\n",
        "dataset = dataset[['close', 'volume', 'Real Lower Band', 'Real Middle Band', 'Real Upper Band', 'ROC']]\n",
        "\n",
        "for i in range (1, 3):\n",
        "    dataset[\"close_date_\" + str(i)] = dataset.close.shift(i)\n",
        "    dataset[\"volume_date_\" + str(i)] = dataset.volume.shift(i)\n",
        "    dataset[\"RLB_date_\" + str(i)] = dataset['Real Lower Band'].shift(i)\n",
        "    dataset[\"RMB_date_\" + str(i)] = dataset['Real Middle Band'].shift(i)\n",
        "    dataset[\"RUB_date_\" + str(i)] = dataset['Real Upper Band'].shift(i)\n",
        "    dataset[\"ROC_date_\" + str(i)] = dataset.ROC.shift(i)\n",
        "\n",
        "dataset.dropna(inplace=True)\n",
        "\n",
        "X = dataset.drop(['close', 'volume', 'Real Lower Band', 'Real Middle Band', 'Real Upper Band', 'ROC'], axis=1)\n",
        "y = pd.DataFrame(dataset['close'])\n",
        "\n",
        "X_train, y_train = X[:math.ceil(len(X)*0.9)], y[:math.ceil(len(X)*0.9)]\n",
        "X_test, y_test = X[math.ceil(len(X)*0.9):], y[math.ceil(len(X)*0.9):]\n",
        "\n",
        "xgb = xgboost.XGBRegressor(n_estimators=100, \n",
        "                           max_depth=8, \n",
        "                           learning_rate=0.1,\n",
        "                           min_child_weight=5,\n",
        "                           subsample=0.1, \n",
        "                           colsample_bytree=1, \n",
        "                           colsample_bylevel=1,\n",
        "                           gamma=0.3,\n",
        "                           objective='reg:squarederror')\n",
        "model = xgb.fit(X_train, y_train)\n",
        "pickle.dump(model, open(\"./MODEL/XGBOOST_BBANDS_ROC.dat\", \"wb\"))\n",
        "\n",
        "model_xgboost = pickle.load(open(\"./MODEL/XGBOOST_BBANDS_ROC.dat\", \"rb\"))\n",
        "\n",
        "predictions = model_xgboost.predict(X_test)\n",
        "\n",
        "prediction_df = dataset.iloc[-len(predictions):]\n",
        "prediction_df['predictions'] = predictions\n",
        "\n",
        "plt.figure(figsize = (20, 10))\n",
        "plt.plot(original_df['close'][-300:])\n",
        "plt.plot(prediction_df['predictions'])\n",
        "plt.legend(['True price', 'Predict price'], loc = 'lower right')\n",
        "plt.show()"
      ]
    },
    {
      "cell_type": "markdown",
      "id": "530e38a5-4c13-4470-bd2b-9af35b547263",
      "metadata": {},
      "source": [
        "#### + BBANDS + RSI"
      ]
    },
    {
      "cell_type": "code",
      "execution_count": null,
      "id": "1732be1e-d620-4823-a134-e4d086460d0c",
      "metadata": {},
      "outputs": [],
      "source": [
        "original_df = pd.read_csv(\"./DATA/MSFT.csv\")\n",
        "dataset = original_df\n",
        "dataset = dataset[['close', 'volume', 'Real Lower Band', 'Real Middle Band', 'Real Upper Band', 'RSI']]\n",
        "\n",
        "for i in range (1, 3):\n",
        "    dataset[\"close_date_\" + str(i)] = dataset.close.shift(i)\n",
        "    dataset[\"volume_date_\" + str(i)] = dataset.volume.shift(i)\n",
        "    dataset[\"RLB_date_\" + str(i)] = dataset['Real Lower Band'].shift(i)\n",
        "    dataset[\"RMB_date_\" + str(i)] = dataset['Real Middle Band'].shift(i)\n",
        "    dataset[\"RUB_date_\" + str(i)] = dataset['Real Upper Band'].shift(i)\n",
        "    dataset[\"RSI_date_\" + str(i)] = dataset.RSI.shift(i)\n",
        "\n",
        "dataset.dropna(inplace=True)\n",
        "\n",
        "X = dataset.drop(['close', 'volume', 'Real Lower Band', 'Real Middle Band', 'Real Upper Band', 'RSI'], axis=1)\n",
        "y = pd.DataFrame(dataset['close'])\n",
        "\n",
        "X_train, y_train = X[:math.ceil(len(X)*0.9)], y[:math.ceil(len(X)*0.9)]\n",
        "X_test, y_test = X[math.ceil(len(X)*0.9):], y[math.ceil(len(X)*0.9):]\n",
        "\n",
        "xgb = xgboost.XGBRegressor(n_estimators=100, \n",
        "                           max_depth=8, \n",
        "                           learning_rate=0.1,\n",
        "                           min_child_weight=5,\n",
        "                           subsample=0.1, \n",
        "                           colsample_bytree=1, \n",
        "                           colsample_bylevel=1,\n",
        "                           gamma=0.3,\n",
        "                           objective='reg:squarederror')\n",
        "model = xgb.fit(X_train, y_train)\n",
        "pickle.dump(model, open(\"./MODEL/XGBOOST_BBANDS_RSI.dat\", \"wb\"))\n",
        "\n",
        "model_xgboost = pickle.load(open(\"./MODEL/XGBOOST_BBANDS_RSI.dat\", \"rb\"))\n",
        "\n",
        "predictions = model_xgboost.predict(X_test)\n",
        "\n",
        "prediction_df = dataset.iloc[-len(predictions):]\n",
        "prediction_df['predictions'] = predictions\n",
        "\n",
        "plt.figure(figsize = (20, 10))\n",
        "plt.plot(original_df['close'][-300:])\n",
        "plt.plot(prediction_df['predictions'])\n",
        "plt.legend(['True price', 'Predict price'], loc = 'lower right')\n",
        "plt.show()"
      ]
    },
    {
      "cell_type": "markdown",
      "id": "9c564dce-1a9a-4a61-b150-6cc86878c237",
      "metadata": {},
      "source": [
        "#### + BBANDS + SMA"
      ]
    },
    {
      "cell_type": "code",
      "execution_count": null,
      "id": "2bee0877-ba1f-4b2d-8eb4-09a2fdaad88b",
      "metadata": {},
      "outputs": [],
      "source": [
        "original_df = pd.read_csv(\"./DATA/MSFT.csv\")\n",
        "dataset = original_df\n",
        "dataset = dataset[['close', 'volume', 'Real Lower Band', 'Real Middle Band', 'Real Upper Band', 'SMA']]\n",
        "\n",
        "for i in range (1, 3):\n",
        "    dataset[\"close_date_\" + str(i)] = dataset.close.shift(i)\n",
        "    dataset[\"volume_date_\" + str(i)] = dataset.volume.shift(i)\n",
        "    dataset[\"RLB_date_\" + str(i)] = dataset['Real Lower Band'].shift(i)\n",
        "    dataset[\"RMB_date_\" + str(i)] = dataset['Real Middle Band'].shift(i)\n",
        "    dataset[\"RUB_date_\" + str(i)] = dataset['Real Upper Band'].shift(i)\n",
        "    dataset[\"SMA_date_\" + str(i)] = dataset.SMA.shift(i)\n",
        "\n",
        "dataset.dropna(inplace=True)\n",
        "\n",
        "X = dataset.drop(['close', 'volume', 'Real Lower Band', 'Real Middle Band', 'Real Upper Band', 'SMA'], axis=1)\n",
        "y = pd.DataFrame(dataset['close'])\n",
        "\n",
        "X_train, y_train = X[:math.ceil(len(X)*0.9)], y[:math.ceil(len(X)*0.9)]\n",
        "X_test, y_test = X[math.ceil(len(X)*0.9):], y[math.ceil(len(X)*0.9):]\n",
        "\n",
        "xgb = xgboost.XGBRegressor(n_estimators=100, \n",
        "                           max_depth=8, \n",
        "                           learning_rate=0.1,\n",
        "                           min_child_weight=5,\n",
        "                           subsample=0.1, \n",
        "                           colsample_bytree=1, \n",
        "                           colsample_bylevel=1,\n",
        "                           gamma=0.3,\n",
        "                           objective='reg:squarederror')\n",
        "model = xgb.fit(X_train, y_train)\n",
        "pickle.dump(model, open(\"./MODEL/XGBOOST_BBANDS_SMA.dat\", \"wb\"))\n",
        "\n",
        "model_xgboost = pickle.load(open(\"./MODEL/XGBOOST_BBANDS_SMA.dat\", \"rb\"))\n",
        "\n",
        "predictions = model_xgboost.predict(X_test)\n",
        "\n",
        "prediction_df = dataset.iloc[-len(predictions):]\n",
        "prediction_df['predictions'] = predictions\n",
        "\n",
        "plt.figure(figsize = (20, 10))\n",
        "plt.plot(original_df['close'][-300:])\n",
        "plt.plot(prediction_df['predictions'])\n",
        "plt.legend(['True price', 'Predict price'], loc = 'lower right')\n",
        "plt.show()"
      ]
    },
    {
      "cell_type": "markdown",
      "id": "72ac0016-e7f5-46be-a0d5-69b8dcd55410",
      "metadata": {},
      "source": [
        "#### + ROC + RSI"
      ]
    },
    {
      "cell_type": "code",
      "execution_count": null,
      "id": "ed76d24e-b290-4c3a-a5f1-382fc4b890cf",
      "metadata": {},
      "outputs": [],
      "source": [
        "original_df = pd.read_csv(\"./DATA/MSFT.csv\")\n",
        "dataset = original_df\n",
        "dataset = dataset[['close', 'volume', 'ROC', 'RSI']]\n",
        "\n",
        "for i in range (1, 3):\n",
        "    dataset[\"close_date_\" + str(i)] = dataset.close.shift(i)\n",
        "    dataset[\"volume_date_\" + str(i)] = dataset.volume.shift(i)\n",
        "    dataset[\"ROC_date_\" + str(i)] = dataset.ROC.shift(i)\n",
        "    dataset[\"RSI_date_\" + str(i)] = dataset.RSI.shift(i)\n",
        "\n",
        "dataset.dropna(inplace=True)\n",
        "\n",
        "X = dataset.drop(['close', 'volume', 'ROC', 'RSI'], axis=1)\n",
        "y = pd.DataFrame(dataset['close'])\n",
        "\n",
        "X_train, y_train = X[:math.ceil(len(X)*0.9)], y[:math.ceil(len(X)*0.9)]\n",
        "X_test, y_test = X[math.ceil(len(X)*0.9):], y[math.ceil(len(X)*0.9):]\n",
        "\n",
        "xgb = xgboost.XGBRegressor(n_estimators=100, \n",
        "                           max_depth=8, \n",
        "                           learning_rate=0.1,\n",
        "                           min_child_weight=5,\n",
        "                           subsample=0.1, \n",
        "                           colsample_bytree=1, \n",
        "                           colsample_bylevel=1,\n",
        "                           gamma=0.3,\n",
        "                           objective='reg:squarederror')\n",
        "model = xgb.fit(X_train, y_train)\n",
        "pickle.dump(model, open(\"./MODEL/XGBOOST_ROC_RSI.dat\", \"wb\"))\n",
        "\n",
        "model_xgboost = pickle.load(open(\"./MODEL/XGBOOST_ROC_RSI.dat\", \"rb\"))\n",
        "\n",
        "predictions = model_xgboost.predict(X_test)\n",
        "\n",
        "prediction_df = dataset.iloc[-len(predictions):]\n",
        "prediction_df['predictions'] = predictions\n",
        "\n",
        "plt.figure(figsize = (20, 10))\n",
        "plt.plot(original_df['close'][-300:])\n",
        "plt.plot(prediction_df['predictions'])\n",
        "plt.legend(['True price', 'Predict price'], loc = 'lower right')\n",
        "plt.show()"
      ]
    },
    {
      "cell_type": "markdown",
      "id": "c159b07b-2bb3-4b2e-a432-46d76989c086",
      "metadata": {},
      "source": [
        "#### + ROC + SMA"
      ]
    },
    {
      "cell_type": "code",
      "execution_count": null,
      "id": "c3b3a9fd-a3e4-4e71-a333-dce3dab8c048",
      "metadata": {},
      "outputs": [],
      "source": [
        "original_df = pd.read_csv(\"./DATA/MSFT.csv\")\n",
        "dataset = original_df\n",
        "dataset = dataset[['close', 'volume', 'ROC', 'SMA']]\n",
        "\n",
        "for i in range (1, 3):\n",
        "    dataset[\"close_date_\" + str(i)] = dataset.close.shift(i)\n",
        "    dataset[\"volume_date_\" + str(i)] = dataset.volume.shift(i)\n",
        "    dataset[\"ROC_date_\" + str(i)] = dataset.ROC.shift(i)\n",
        "    dataset[\"SMA_date_\" + str(i)] = dataset.SMA.shift(i)\n",
        "\n",
        "dataset.dropna(inplace=True)\n",
        "\n",
        "X = dataset.drop(['close', 'volume', 'ROC', 'SMA'], axis=1)\n",
        "y = pd.DataFrame(dataset['close'])\n",
        "\n",
        "X_train, y_train = X[:math.ceil(len(X)*0.9)], y[:math.ceil(len(X)*0.9)]\n",
        "X_test, y_test = X[math.ceil(len(X)*0.9):], y[math.ceil(len(X)*0.9):]\n",
        "\n",
        "xgb = xgboost.XGBRegressor(n_estimators=100, \n",
        "                           max_depth=8, \n",
        "                           learning_rate=0.1,\n",
        "                           min_child_weight=5,\n",
        "                           subsample=0.1, \n",
        "                           colsample_bytree=1, \n",
        "                           colsample_bylevel=1,\n",
        "                           gamma=0.3,\n",
        "                           objective='reg:squarederror')\n",
        "model = xgb.fit(X_train, y_train)\n",
        "pickle.dump(model, open(\"./MODEL/XGBOOST_ROC_SMA.dat\", \"wb\"))\n",
        "\n",
        "model_xgboost = pickle.load(open(\"./MODEL/XGBOOST_ROC_SMA.dat\", \"rb\"))\n",
        "\n",
        "predictions = model_xgboost.predict(X_test)\n",
        "\n",
        "prediction_df = dataset.iloc[-len(predictions):]\n",
        "prediction_df['predictions'] = predictions\n",
        "\n",
        "plt.figure(figsize = (20, 10))\n",
        "plt.plot(original_df['close'][-300:])\n",
        "plt.plot(prediction_df['predictions'])\n",
        "plt.legend(['True price', 'Predict price'], loc = 'lower right')\n",
        "plt.show()"
      ]
    },
    {
      "cell_type": "markdown",
      "id": "8ade1f38-8f8e-4071-8bb8-19feea33f6a2",
      "metadata": {},
      "source": [
        "#### + RSI + SMA"
      ]
    },
    {
      "cell_type": "code",
      "execution_count": null,
      "id": "925d0120-4e48-466c-8067-ca7ea8a76694",
      "metadata": {},
      "outputs": [],
      "source": [
        "original_df = pd.read_csv(\"./DATA/MSFT.csv\")\n",
        "dataset = original_df\n",
        "dataset = dataset[['close', 'volume', 'RSI', 'SMA']]\n",
        "\n",
        "for i in range (1, 3):\n",
        "    dataset[\"close_date_\" + str(i)] = dataset.close.shift(i)\n",
        "    dataset[\"volume_date_\" + str(i)] = dataset.volume.shift(i)\n",
        "    dataset[\"RSI_date_\" + str(i)] = dataset.RSI.shift(i)\n",
        "    dataset[\"SMA_date_\" + str(i)] = dataset.SMA.shift(i)\n",
        "\n",
        "dataset.dropna(inplace=True)\n",
        "\n",
        "X = dataset.drop(['close', 'volume', 'RSI', 'SMA'], axis=1)\n",
        "y = pd.DataFrame(dataset['close'])\n",
        "\n",
        "X_train, y_train = X[:math.ceil(len(X)*0.9)], y[:math.ceil(len(X)*0.9)]\n",
        "X_test, y_test = X[math.ceil(len(X)*0.9):], y[math.ceil(len(X)*0.9):]\n",
        "\n",
        "xgb = xgboost.XGBRegressor(n_estimators=100, \n",
        "                           max_depth=8, \n",
        "                           learning_rate=0.1,\n",
        "                           min_child_weight=5,\n",
        "                           subsample=0.1, \n",
        "                           colsample_bytree=1, \n",
        "                           colsample_bylevel=1,\n",
        "                           gamma=0.3,\n",
        "                           objective='reg:squarederror')\n",
        "model = xgb.fit(X_train, y_train)\n",
        "pickle.dump(model, open(\"./MODEL/XGBOOST_RSI_SMA.dat\", \"wb\"))\n",
        "\n",
        "model_xgboost = pickle.load(open(\"./MODEL/XGBOOST_RSI_SMA.dat\", \"rb\"))\n",
        "\n",
        "predictions = model_xgboost.predict(X_test)\n",
        "\n",
        "prediction_df = dataset.iloc[-len(predictions):]\n",
        "prediction_df['predictions'] = predictions\n",
        "\n",
        "plt.figure(figsize = (20, 10))\n",
        "plt.plot(original_df['close'][-300:])\n",
        "plt.plot(prediction_df['predictions'])\n",
        "plt.legend(['True price', 'Predict price'], loc = 'lower right')\n",
        "plt.show()"
      ]
    },
    {
      "cell_type": "markdown",
      "id": "0ddd3ef4-ad73-48fd-bf22-bd2836ef774e",
      "metadata": {},
      "source": [
        "#### + BBANDS + ROC + RSI"
      ]
    },
    {
      "cell_type": "code",
      "execution_count": null,
      "id": "1e83d448-1381-493c-b0b4-523d2c403ffe",
      "metadata": {},
      "outputs": [],
      "source": [
        "original_df = pd.read_csv(\"./DATA/MSFT.csv\")\n",
        "dataset = original_df\n",
        "dataset = dataset[['close', 'volume', 'Real Lower Band', 'Real Middle Band', 'Real Upper Band', 'ROC', 'RSI']]\n",
        "\n",
        "for i in range (1, 3):\n",
        "    dataset[\"close_date_\" + str(i)] = dataset.close.shift(i)\n",
        "    dataset[\"volume_date_\" + str(i)] = dataset.volume.shift(i)\n",
        "    dataset[\"RLB_date_\" + str(i)] = dataset['Real Lower Band'].shift(i)\n",
        "    dataset[\"RMB_date_\" + str(i)] = dataset['Real Middle Band'].shift(i)\n",
        "    dataset[\"RUB_date_\" + str(i)] = dataset['Real Upper Band'].shift(i)\n",
        "    dataset[\"ROC_date_\" + str(i)] = dataset.ROC.shift(i)\n",
        "    dataset[\"RSI_date_\" + str(i)] = dataset.RSI.shift(i)\n",
        "\n",
        "dataset.dropna(inplace=True)\n",
        "\n",
        "X = dataset.drop(['close', 'volume', 'Real Lower Band', 'Real Middle Band', 'Real Upper Band', 'ROC', 'RSI'], axis=1)\n",
        "y = pd.DataFrame(dataset['close'])\n",
        "\n",
        "X_train, y_train = X[:math.ceil(len(X)*0.9)], y[:math.ceil(len(X)*0.9)]\n",
        "X_test, y_test = X[math.ceil(len(X)*0.9):], y[math.ceil(len(X)*0.9):]\n",
        "\n",
        "xgb = xgboost.XGBRegressor(n_estimators=100, \n",
        "                           max_depth=8, \n",
        "                           learning_rate=0.1,\n",
        "                           min_child_weight=5,\n",
        "                           subsample=0.1, \n",
        "                           colsample_bytree=1, \n",
        "                           colsample_bylevel=1,\n",
        "                           gamma=0.3,\n",
        "                           objective='reg:squarederror')\n",
        "model = xgb.fit(X_train, y_train)\n",
        "pickle.dump(model, open(\"./MODEL/XGBOOST_BBANDS_ROC_RSI.dat\", \"wb\"))\n",
        "\n",
        "model_xgboost = pickle.load(open(\"./MODEL/XGBOOST_BBANDS_ROC_RSI.dat\", \"rb\"))\n",
        "\n",
        "predictions = model_xgboost.predict(X_test)\n",
        "\n",
        "prediction_df = dataset.iloc[-len(predictions):]\n",
        "prediction_df['predictions'] = predictions\n",
        "\n",
        "plt.figure(figsize = (20, 10))\n",
        "plt.plot(original_df['close'][-300:])\n",
        "plt.plot(prediction_df['predictions'])\n",
        "plt.legend(['True price', 'Predict price'], loc = 'lower right')\n",
        "plt.show()"
      ]
    },
    {
      "cell_type": "code",
      "execution_count": null,
      "id": "c0b4426c-b493-4ed2-a3c5-5ef40f33cb2a",
      "metadata": {},
      "outputs": [],
      "source": [
        "original_df = pd.read_csv(\"./DATA/MSFT.csv\")\n",
        "dataset = original_df\n",
        "dataset = dataset[['close', 'volume', 'Real Lower Band', 'Real Middle Band', 'Real Upper Band', 'ROC', 'RSI']]\n",
        "\n",
        "for i in range (1, 3):\n",
        "    dataset[\"close_date_\" + str(i)] = dataset.close.shift(i)\n",
        "    dataset[\"volume_date_\" + str(i)] = dataset.volume.shift(i)\n",
        "    dataset[\"RLB_date_\" + str(i)] = dataset['Real Lower Band'].shift(i)\n",
        "    dataset[\"RMB_date_\" + str(i)] = dataset['Real Middle Band'].shift(i)\n",
        "    dataset[\"RUB_date_\" + str(i)] = dataset['Real Upper Band'].shift(i)\n",
        "    dataset[\"ROC_date_\" + str(i)] = dataset.ROC.shift(i)\n",
        "    dataset[\"RSI_date_\" + str(i)] = dataset.RSI.shift(i)\n",
        "\n",
        "dataset.dropna(inplace=True)\n",
        "\n",
        "X = dataset.drop(['close', 'volume', 'Real Lower Band', 'Real Middle Band', 'Real Upper Band', 'ROC', 'RSI'], axis=1)\n",
        "y = pd.DataFrame(dataset['close'])\n",
        "\n",
        "X_train, y_train = X[:math.ceil(len(X)*0.9)], y[:math.ceil(len(X)*0.9)]\n",
        "X_test, y_test = X[math.ceil(len(X)*0.9):], y[math.ceil(len(X)*0.9):]\n",
        "\n",
        "xgb = xgboost.XGBRegressor(n_estimators=100, \n",
        "                           max_depth=8, \n",
        "                           learning_rate=0.1,\n",
        "                           min_child_weight=5,\n",
        "                           subsample=0.1, \n",
        "                           colsample_bytree=1, \n",
        "                           colsample_bylevel=1,\n",
        "                           gamma=0.3,\n",
        "                           objective='reg:squarederror')\n",
        "model = xgb.fit(X_train, y_train)\n",
        "pickle.dump(model, open(\"./MODEL/XGBOOST_BBANDS_ROC_RSI.dat\", \"wb\"))\n",
        "\n",
        "model_xgboost = pickle.load(open(\"./MODEL/XGBOOST_BBANDS_ROC_RSI.dat\", \"rb\"))\n",
        "\n",
        "predictions = model_xgboost.predict(X_test)\n",
        "\n",
        "prediction_df = dataset.iloc[-len(predictions):]\n",
        "prediction_df['predictions'] = predictions\n",
        "\n",
        "plt.figure(figsize = (20, 10))\n",
        "plt.plot(original_df['close'][-300:])\n",
        "plt.plot(prediction_df['predictions'])\n",
        "plt.legend(['True price', 'Predict price'], loc = 'lower right')\n",
        "plt.show()"
      ]
    },
    {
      "cell_type": "markdown",
      "id": "91a68436-0733-44e0-8055-b76be08e4a13",
      "metadata": {},
      "source": [
        "#### + BBANDS + ROC + SMA"
      ]
    },
    {
      "cell_type": "code",
      "execution_count": null,
      "id": "c3c0c1cd-dea9-411a-befc-ec7daa83d480",
      "metadata": {},
      "outputs": [],
      "source": [
        "original_df = pd.read_csv(\"./DATA/MSFT.csv\")\n",
        "dataset = original_df\n",
        "dataset = dataset[['close', 'volume', 'Real Lower Band', 'Real Middle Band', 'Real Upper Band', 'ROC', 'SMA']]\n",
        "\n",
        "for i in range (1, 3):\n",
        "    dataset[\"close_date_\" + str(i)] = dataset.close.shift(i)\n",
        "    dataset[\"volume_date_\" + str(i)] = dataset.volume.shift(i)\n",
        "    dataset[\"RLB_date_\" + str(i)] = dataset['Real Lower Band'].shift(i)\n",
        "    dataset[\"RMB_date_\" + str(i)] = dataset['Real Middle Band'].shift(i)\n",
        "    dataset[\"RUB_date_\" + str(i)] = dataset['Real Upper Band'].shift(i)\n",
        "    dataset[\"ROC_date_\" + str(i)] = dataset.ROC.shift(i)\n",
        "    dataset[\"SMA_date_\" + str(i)] = dataset.SMA.shift(i)\n",
        "\n",
        "dataset.dropna(inplace=True)\n",
        "\n",
        "X = dataset.drop(['close', 'volume', 'Real Lower Band', 'Real Middle Band', 'Real Upper Band', 'ROC', 'SMA'], axis=1)\n",
        "y = pd.DataFrame(dataset['close'])\n",
        "\n",
        "X_train, y_train = X[:math.ceil(len(X)*0.9)], y[:math.ceil(len(X)*0.9)]\n",
        "X_test, y_test = X[math.ceil(len(X)*0.9):], y[math.ceil(len(X)*0.9):]\n",
        "\n",
        "xgb = xgboost.XGBRegressor(n_estimators=100, \n",
        "                           max_depth=8, \n",
        "                           learning_rate=0.1,\n",
        "                           min_child_weight=5,\n",
        "                           subsample=0.1, \n",
        "                           colsample_bytree=1, \n",
        "                           colsample_bylevel=1,\n",
        "                           gamma=0.3,\n",
        "                           objective='reg:squarederror')\n",
        "model = xgb.fit(X_train, y_train)\n",
        "pickle.dump(model, open(\"./MODEL/XGBOOST_BBANDS_ROC_SMA.dat\", \"wb\"))\n",
        "\n",
        "model_xgboost = pickle.load(open(\"./MODEL/XGBOOST_BBANDS_ROC_SMA.dat\", \"rb\"))\n",
        "\n",
        "predictions = model_xgboost.predict(X_test)\n",
        "\n",
        "prediction_df = dataset.iloc[-len(predictions):]\n",
        "prediction_df['predictions'] = predictions\n",
        "\n",
        "plt.figure(figsize = (20, 10))\n",
        "plt.plot(original_df['close'][-300:])\n",
        "plt.plot(prediction_df['predictions'])\n",
        "plt.legend(['True price', 'Predict price'], loc = 'lower right')\n",
        "plt.show()"
      ]
    },
    {
      "cell_type": "markdown",
      "id": "12c1b658-54c3-4d41-8665-6db312ee5e78",
      "metadata": {},
      "source": [
        "#### + BBANDS + RSI + SMA"
      ]
    },
    {
      "cell_type": "code",
      "execution_count": null,
      "id": "7074dff4-dc29-44e4-8de5-e2ce0fadd386",
      "metadata": {},
      "outputs": [],
      "source": [
        "original_df = pd.read_csv(\"./DATA/MSFT.csv\")\n",
        "dataset = original_df\n",
        "dataset = dataset[['close', 'volume', 'Real Lower Band', 'Real Middle Band', 'Real Upper Band', 'RSI', 'SMA']]\n",
        "\n",
        "for i in range (1, 3):\n",
        "    dataset[\"close_date_\" + str(i)] = dataset.close.shift(i)\n",
        "    dataset[\"volume_date_\" + str(i)] = dataset.volume.shift(i)\n",
        "    dataset[\"RLB_date_\" + str(i)] = dataset['Real Lower Band'].shift(i)\n",
        "    dataset[\"RMB_date_\" + str(i)] = dataset['Real Middle Band'].shift(i)\n",
        "    dataset[\"RUB_date_\" + str(i)] = dataset['Real Upper Band'].shift(i)\n",
        "    dataset[\"RSI_date_\" + str(i)] = dataset.RSI.shift(i)\n",
        "    dataset[\"RMA_date_\" + str(i)] = dataset.SMA.shift(i)\n",
        "\n",
        "dataset.dropna(inplace=True)\n",
        "\n",
        "X = dataset.drop(['close', 'volume', 'Real Lower Band', 'Real Middle Band', 'Real Upper Band', 'RSI', 'SMA'], axis=1)\n",
        "y = pd.DataFrame(dataset['close'])\n",
        "\n",
        "X_train, y_train = X[:math.ceil(len(X)*0.9)], y[:math.ceil(len(X)*0.9)]\n",
        "X_test, y_test = X[math.ceil(len(X)*0.9):], y[math.ceil(len(X)*0.9):]\n",
        "\n",
        "xgb = xgboost.XGBRegressor(n_estimators=100, \n",
        "                           max_depth=8, \n",
        "                           learning_rate=0.1,\n",
        "                           min_child_weight=5,\n",
        "                           subsample=0.1, \n",
        "                           colsample_bytree=1, \n",
        "                           colsample_bylevel=1,\n",
        "                           gamma=0.3,\n",
        "                           objective='reg:squarederror')\n",
        "model = xgb.fit(X_train, y_train)\n",
        "pickle.dump(model, open(\"./MODEL/XGBOOST_BBANDS_RSI_SMA.dat\", \"wb\"))\n",
        "\n",
        "model_xgboost = pickle.load(open(\"./MODEL/XGBOOST_BBANDS_RSI_SMA.dat\", \"rb\"))\n",
        "\n",
        "predictions = model_xgboost.predict(X_test)\n",
        "\n",
        "prediction_df = dataset.iloc[-len(predictions):]\n",
        "prediction_df['predictions'] = predictions\n",
        "\n",
        "plt.figure(figsize = (20, 10))\n",
        "plt.plot(original_df['close'][-300:])\n",
        "plt.plot(prediction_df['predictions'])\n",
        "plt.legend(['True price', 'Predict price'], loc = 'lower right')\n",
        "plt.show()"
      ]
    },
    {
      "cell_type": "markdown",
      "id": "758e9f29-eed0-42e7-ae82-28b512317306",
      "metadata": {},
      "source": [
        "#### + ROC + RSI + SMA"
      ]
    },
    {
      "cell_type": "code",
      "execution_count": null,
      "id": "d07559a4-08e1-426c-94ce-4ce44ce781d4",
      "metadata": {},
      "outputs": [],
      "source": [
        "original_df = pd.read_csv(\"./DATA/MSFT.csv\")\n",
        "dataset = original_df\n",
        "dataset = dataset[['close', 'volume', 'ROC', 'RSI', 'SMA']]\n",
        "\n",
        "for i in range (1, 3):\n",
        "    dataset[\"close_date_\" + str(i)] = dataset.close.shift(i)\n",
        "    dataset[\"volume_date_\" + str(i)] = dataset.volume.shift(i)\n",
        "    dataset[\"ROC_date_\" + str(i)] = dataset.ROC.shift(i)\n",
        "    dataset[\"RSI_date_\" + str(i)] = dataset.RSI.shift(i)\n",
        "    dataset[\"SMA_date_\" + str(i)] = dataset.SMA.shift(i)\n",
        "\n",
        "dataset.dropna(inplace=True)\n",
        "\n",
        "X = dataset.drop(['close', 'volume', 'ROC', 'RSI', 'SMA'], axis=1)\n",
        "y = pd.DataFrame(dataset['close'])\n",
        "\n",
        "X_train, y_train = X[:math.ceil(len(X)*0.9)], y[:math.ceil(len(X)*0.9)]\n",
        "X_test, y_test = X[math.ceil(len(X)*0.9):], y[math.ceil(len(X)*0.9):]\n",
        "\n",
        "xgb = xgboost.XGBRegressor(n_estimators=100, \n",
        "                           max_depth=8, \n",
        "                           learning_rate=0.1,\n",
        "                           min_child_weight=5,\n",
        "                           subsample=0.1, \n",
        "                           colsample_bytree=1, \n",
        "                           colsample_bylevel=1,\n",
        "                           gamma=0.3,\n",
        "                           objective='reg:squarederror')\n",
        "model = xgb.fit(X_train, y_train)\n",
        "pickle.dump(model, open(\"./MODEL/XGBOOST_ROC_RSI_SMA.dat\", \"wb\"))\n",
        "\n",
        "model_xgboost = pickle.load(open(\"./MODEL/XGBOOST_ROC_RSI_SMA.dat\", \"rb\"))\n",
        "\n",
        "predictions = model_xgboost.predict(X_test)\n",
        "\n",
        "prediction_df = dataset.iloc[-len(predictions):]\n",
        "prediction_df['predictions'] = predictions\n",
        "\n",
        "plt.figure(figsize = (20, 10))\n",
        "plt.plot(original_df['close'][-300:])\n",
        "plt.plot(prediction_df['predictions'])\n",
        "plt.legend(['True price', 'Predict price'], loc = 'lower right')\n",
        "plt.show()"
      ]
    },
    {
      "cell_type": "markdown",
      "id": "e3397ad6-60f7-4332-a51d-4fd571a08100",
      "metadata": {},
      "source": [
        "#### + BBANDS + ROC + RSI + SMA"
      ]
    },
    {
      "cell_type": "code",
      "execution_count": null,
      "id": "0e5e8a1f-0599-4e7e-9716-a325606527be",
      "metadata": {},
      "outputs": [],
      "source": [
        "original_df = pd.read_csv(\"./DATA/MSFT.csv\")\n",
        "dataset = original_df\n",
        "dataset = dataset[['close', 'volume', 'Real Lower Band', 'Real Middle Band', 'Real Upper Band', 'ROC', 'RSI', 'SMA']]\n",
        "\n",
        "for i in range (1, 3):\n",
        "    dataset[\"close_date_\" + str(i)] = dataset.close.shift(i)\n",
        "    dataset[\"volume_date_\" + str(i)] = dataset.volume.shift(i)\n",
        "    dataset[\"RLB_date_\" + str(i)] = dataset['Real Lower Band'].shift(i)\n",
        "    dataset[\"RMB_date_\" + str(i)] = dataset['Real Middle Band'].shift(i)\n",
        "    dataset[\"RUB_date_\" + str(i)] = dataset['Real Upper Band'].shift(i)\n",
        "    dataset[\"ROC_date_\" + str(i)] = dataset.ROC.shift(i)\n",
        "    dataset[\"RSI_date_\" + str(i)] = dataset.RSI.shift(i)\n",
        "    dataset[\"RMA_date_\" + str(i)] = dataset.SMA.shift(i)\n",
        "\n",
        "dataset.dropna(inplace=True)\n",
        "\n",
        "X = dataset.drop(['close', 'volume', 'Real Lower Band', 'Real Middle Band', 'Real Upper Band', 'ROC', 'RSI', 'SMA'], axis=1)\n",
        "y = pd.DataFrame(dataset['close'])\n",
        "\n",
        "X_train, y_train = X[:math.ceil(len(X)*0.9)], y[:math.ceil(len(X)*0.9)]\n",
        "X_test, y_test = X[math.ceil(len(X)*0.9):], y[math.ceil(len(X)*0.9):]\n",
        "\n",
        "xgb = xgboost.XGBRegressor(n_estimators=100, \n",
        "                           max_depth=8, \n",
        "                           learning_rate=0.1,\n",
        "                           min_child_weight=5,\n",
        "                           subsample=0.1, \n",
        "                           colsample_bytree=1, \n",
        "                           colsample_bylevel=1,\n",
        "                           gamma=0.3,\n",
        "                           objective='reg:squarederror')\n",
        "model = xgb.fit(X_train, y_train)\n",
        "pickle.dump(model, open(\"./MODEL/XGBOOST_BBANDS_ROC_RSI_SMA.dat\", \"wb\"))\n",
        "\n",
        "model_xgboost = pickle.load(open(\"./MODEL/XGBOOST_BBANDS_ROC_RSI_SMA.dat\", \"rb\"))\n",
        "\n",
        "predictions = model_xgboost.predict(X_test)\n",
        "\n",
        "prediction_df = dataset.iloc[-len(predictions):]\n",
        "prediction_df['predictions'] = predictions\n",
        "\n",
        "plt.figure(figsize = (20, 10))\n",
        "plt.plot(original_df['close'][-300:])\n",
        "plt.plot(prediction_df['predictions'])\n",
        "plt.legend(['True price', 'Predict price'], loc = 'lower right')\n",
        "plt.show()"
      ]
    },
    {
      "cell_type": "markdown",
      "id": "464f870b-9ca3-494d-80a6-497cac12b310",
      "metadata": {},
      "source": [
        "### Predict Future"
      ]
    },
    {
      "cell_type": "code",
      "execution_count": null,
      "id": "e7de05f9-863e-4ba8-bc7e-cfa4e11f2600",
      "metadata": {},
      "outputs": [],
      "source": [
        "def xgboost_predict_future(data, modelName, indicatorArr, period):\n",
        "    modelFileName = './MODEL/' + modelName\n",
        "    sorted(indicatorArr)\n",
        "    for indicator in indicatorArr:\n",
        "        if indicator == 'close':\n",
        "            continue\n",
        "        modelFileName = modelFileName + '_' + indicator\n",
        "    modelFileName = modelFileName + '.dat'\n",
        "    model = pickle.load(open(modelFileName, \"rb\"))\n",
        "    numDataPoint = int(period / 15)\n",
        "    \n",
        "    temp = indicatorArr.copy()\n",
        "    temp.append('volume')\n",
        "    data = data[temp]\n",
        "    data = data[-5:]\n",
        "    \n",
        "    X = pd.DataFrame({})\n",
        "    for column in data.columns:\n",
        "        n = len(data)\n",
        "        for i in range(1, n + 1):\n",
        "            X[column + '_date_' + str(i)] = [data.iloc[n - i][column]] \n",
        "    \n",
        "    predictedValue = model.predict(X)\n",
        "    \n",
        "    return predictedValue"
      ]
    }
  ],
  "metadata": {
    "kernelspec": {
      "display_name": "Python 3.8.3 64-bit",
      "language": "python",
      "name": "python3"
    },
    "language_info": {
      "codemirror_mode": {
        "name": "ipython",
        "version": 3
      },
      "file_extension": ".py",
      "mimetype": "text/x-python",
      "name": "python",
      "nbconvert_exporter": "python",
      "pygments_lexer": "ipython3",
      "version": "3.8.3"
    },
    "vscode": {
      "interpreter": {
        "hash": "40e344af244c55bdf9bc341faab984fd27d2569c25205de0a70c7eb1dc67c8a2"
      }
    }
  },
  "nbformat": 4,
  "nbformat_minor": 5
}
